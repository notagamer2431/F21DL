{
 "cells": [
  {
   "cell_type": "markdown",
   "metadata": {
    "id": "cBNYDcMVFs0m"
   },
   "source": [
    "**Importing Libraries**"
   ]
  },
  {
   "cell_type": "code",
   "execution_count": 1,
   "metadata": {
    "colab": {
     "base_uri": "https://localhost:8080/"
    },
    "id": "K6Q80nMGFweV",
    "outputId": "abb596f3-e7d8-492b-ddd6-6d87c53e7c7d"
   },
   "outputs": [
    {
     "name": "stdout",
     "output_type": "stream",
     "text": [
      "Requirement already satisfied: tensorflow in /Users/mac/anaconda3/envs/notebook/lib/python3.11/site-packages (2.13.0)\n",
      "Requirement already satisfied: tensorflow-macos==2.13.0 in /Users/mac/anaconda3/envs/notebook/lib/python3.11/site-packages (from tensorflow) (2.13.0)\n",
      "Requirement already satisfied: absl-py>=1.0.0 in /Users/mac/anaconda3/envs/notebook/lib/python3.11/site-packages (from tensorflow-macos==2.13.0->tensorflow) (1.4.0)\n",
      "Requirement already satisfied: astunparse>=1.6.0 in /Users/mac/anaconda3/envs/notebook/lib/python3.11/site-packages (from tensorflow-macos==2.13.0->tensorflow) (1.6.3)\n",
      "Requirement already satisfied: flatbuffers>=23.1.21 in /Users/mac/anaconda3/envs/notebook/lib/python3.11/site-packages (from tensorflow-macos==2.13.0->tensorflow) (23.5.26)\n",
      "Requirement already satisfied: gast<=0.4.0,>=0.2.1 in /Users/mac/anaconda3/envs/notebook/lib/python3.11/site-packages (from tensorflow-macos==2.13.0->tensorflow) (0.4.0)\n",
      "Requirement already satisfied: google-pasta>=0.1.1 in /Users/mac/anaconda3/envs/notebook/lib/python3.11/site-packages (from tensorflow-macos==2.13.0->tensorflow) (0.2.0)\n",
      "Requirement already satisfied: h5py>=2.9.0 in /Users/mac/anaconda3/envs/notebook/lib/python3.11/site-packages (from tensorflow-macos==2.13.0->tensorflow) (3.9.0)\n",
      "Requirement already satisfied: libclang>=13.0.0 in /Users/mac/anaconda3/envs/notebook/lib/python3.11/site-packages (from tensorflow-macos==2.13.0->tensorflow) (16.0.6)\n",
      "Collecting numpy<=1.24.3,>=1.22 (from tensorflow-macos==2.13.0->tensorflow)\n",
      "  Using cached numpy-1.24.3-cp311-cp311-macosx_11_0_arm64.whl (13.8 MB)\n",
      "Requirement already satisfied: opt-einsum>=2.3.2 in /Users/mac/anaconda3/envs/notebook/lib/python3.11/site-packages (from tensorflow-macos==2.13.0->tensorflow) (3.3.0)\n",
      "Requirement already satisfied: packaging in /Users/mac/anaconda3/envs/notebook/lib/python3.11/site-packages (from tensorflow-macos==2.13.0->tensorflow) (23.0)\n",
      "Requirement already satisfied: protobuf!=4.21.0,!=4.21.1,!=4.21.2,!=4.21.3,!=4.21.4,!=4.21.5,<5.0.0dev,>=3.20.3 in /Users/mac/anaconda3/envs/notebook/lib/python3.11/site-packages (from tensorflow-macos==2.13.0->tensorflow) (3.20.3)\n",
      "Requirement already satisfied: setuptools in /Users/mac/anaconda3/envs/notebook/lib/python3.11/site-packages (from tensorflow-macos==2.13.0->tensorflow) (67.8.0)\n",
      "Requirement already satisfied: six>=1.12.0 in /Users/mac/anaconda3/envs/notebook/lib/python3.11/site-packages (from tensorflow-macos==2.13.0->tensorflow) (1.16.0)\n",
      "Requirement already satisfied: termcolor>=1.1.0 in /Users/mac/anaconda3/envs/notebook/lib/python3.11/site-packages (from tensorflow-macos==2.13.0->tensorflow) (2.3.0)\n",
      "Requirement already satisfied: typing-extensions<4.6.0,>=3.6.6 in /Users/mac/anaconda3/envs/notebook/lib/python3.11/site-packages (from tensorflow-macos==2.13.0->tensorflow) (4.5.0)\n",
      "Requirement already satisfied: wrapt>=1.11.0 in /Users/mac/anaconda3/envs/notebook/lib/python3.11/site-packages (from tensorflow-macos==2.13.0->tensorflow) (1.15.0)\n",
      "Requirement already satisfied: grpcio<2.0,>=1.24.3 in /Users/mac/anaconda3/envs/notebook/lib/python3.11/site-packages (from tensorflow-macos==2.13.0->tensorflow) (1.56.2)\n",
      "Requirement already satisfied: tensorboard<2.14,>=2.13 in /Users/mac/anaconda3/envs/notebook/lib/python3.11/site-packages (from tensorflow-macos==2.13.0->tensorflow) (2.13.0)\n",
      "Requirement already satisfied: tensorflow-estimator<2.14,>=2.13.0 in /Users/mac/anaconda3/envs/notebook/lib/python3.11/site-packages (from tensorflow-macos==2.13.0->tensorflow) (2.13.0)\n",
      "Requirement already satisfied: keras<2.14,>=2.13.1 in /Users/mac/anaconda3/envs/notebook/lib/python3.11/site-packages (from tensorflow-macos==2.13.0->tensorflow) (2.13.1)\n",
      "Requirement already satisfied: wheel<1.0,>=0.23.0 in /Users/mac/anaconda3/envs/notebook/lib/python3.11/site-packages (from astunparse>=1.6.0->tensorflow-macos==2.13.0->tensorflow) (0.38.4)\n",
      "Requirement already satisfied: google-auth<3,>=1.6.3 in /Users/mac/anaconda3/envs/notebook/lib/python3.11/site-packages (from tensorboard<2.14,>=2.13->tensorflow-macos==2.13.0->tensorflow) (2.22.0)\n",
      "Requirement already satisfied: google-auth-oauthlib<1.1,>=0.5 in /Users/mac/anaconda3/envs/notebook/lib/python3.11/site-packages (from tensorboard<2.14,>=2.13->tensorflow-macos==2.13.0->tensorflow) (1.0.0)\n",
      "Requirement already satisfied: markdown>=2.6.8 in /Users/mac/anaconda3/envs/notebook/lib/python3.11/site-packages (from tensorboard<2.14,>=2.13->tensorflow-macos==2.13.0->tensorflow) (3.4.3)\n",
      "Requirement already satisfied: requests<3,>=2.21.0 in /Users/mac/anaconda3/envs/notebook/lib/python3.11/site-packages (from tensorboard<2.14,>=2.13->tensorflow-macos==2.13.0->tensorflow) (2.29.0)\n",
      "Requirement already satisfied: tensorboard-data-server<0.8.0,>=0.7.0 in /Users/mac/anaconda3/envs/notebook/lib/python3.11/site-packages (from tensorboard<2.14,>=2.13->tensorflow-macos==2.13.0->tensorflow) (0.7.1)\n",
      "Requirement already satisfied: werkzeug>=1.0.1 in /Users/mac/anaconda3/envs/notebook/lib/python3.11/site-packages (from tensorboard<2.14,>=2.13->tensorflow-macos==2.13.0->tensorflow) (2.3.6)\n",
      "Requirement already satisfied: cachetools<6.0,>=2.0.0 in /Users/mac/anaconda3/envs/notebook/lib/python3.11/site-packages (from google-auth<3,>=1.6.3->tensorboard<2.14,>=2.13->tensorflow-macos==2.13.0->tensorflow) (5.3.1)\n",
      "Requirement already satisfied: pyasn1-modules>=0.2.1 in /Users/mac/anaconda3/envs/notebook/lib/python3.11/site-packages (from google-auth<3,>=1.6.3->tensorboard<2.14,>=2.13->tensorflow-macos==2.13.0->tensorflow) (0.3.0)\n",
      "Requirement already satisfied: rsa<5,>=3.1.4 in /Users/mac/anaconda3/envs/notebook/lib/python3.11/site-packages (from google-auth<3,>=1.6.3->tensorboard<2.14,>=2.13->tensorflow-macos==2.13.0->tensorflow) (4.9)\n",
      "Requirement already satisfied: urllib3<2.0 in /Users/mac/anaconda3/envs/notebook/lib/python3.11/site-packages (from google-auth<3,>=1.6.3->tensorboard<2.14,>=2.13->tensorflow-macos==2.13.0->tensorflow) (1.26.16)\n",
      "Requirement already satisfied: requests-oauthlib>=0.7.0 in /Users/mac/anaconda3/envs/notebook/lib/python3.11/site-packages (from google-auth-oauthlib<1.1,>=0.5->tensorboard<2.14,>=2.13->tensorflow-macos==2.13.0->tensorflow) (1.3.1)\n",
      "Requirement already satisfied: charset-normalizer<4,>=2 in /Users/mac/anaconda3/envs/notebook/lib/python3.11/site-packages (from requests<3,>=2.21.0->tensorboard<2.14,>=2.13->tensorflow-macos==2.13.0->tensorflow) (2.0.4)\n",
      "Requirement already satisfied: idna<4,>=2.5 in /Users/mac/anaconda3/envs/notebook/lib/python3.11/site-packages (from requests<3,>=2.21.0->tensorboard<2.14,>=2.13->tensorflow-macos==2.13.0->tensorflow) (3.4)\n",
      "Requirement already satisfied: certifi>=2017.4.17 in /Users/mac/anaconda3/envs/notebook/lib/python3.11/site-packages (from requests<3,>=2.21.0->tensorboard<2.14,>=2.13->tensorflow-macos==2.13.0->tensorflow) (2023.7.22)\n",
      "Requirement already satisfied: MarkupSafe>=2.1.1 in /Users/mac/anaconda3/envs/notebook/lib/python3.11/site-packages (from werkzeug>=1.0.1->tensorboard<2.14,>=2.13->tensorflow-macos==2.13.0->tensorflow) (2.1.1)\n",
      "Requirement already satisfied: pyasn1<0.6.0,>=0.4.6 in /Users/mac/anaconda3/envs/notebook/lib/python3.11/site-packages (from pyasn1-modules>=0.2.1->google-auth<3,>=1.6.3->tensorboard<2.14,>=2.13->tensorflow-macos==2.13.0->tensorflow) (0.5.0)\n",
      "Requirement already satisfied: oauthlib>=3.0.0 in /Users/mac/anaconda3/envs/notebook/lib/python3.11/site-packages (from requests-oauthlib>=0.7.0->google-auth-oauthlib<1.1,>=0.5->tensorboard<2.14,>=2.13->tensorflow-macos==2.13.0->tensorflow) (3.2.2)\n",
      "Installing collected packages: numpy\n",
      "  Attempting uninstall: numpy\n",
      "    Found existing installation: numpy 1.25.0\n",
      "    Uninstalling numpy-1.25.0:\n",
      "      Successfully uninstalled numpy-1.25.0\n",
      "Successfully installed numpy-1.24.3\n",
      "Note: you may need to restart the kernel to use updated packages.\n"
     ]
    }
   ],
   "source": [
    "pip install tensorflow"
   ]
  },
  {
   "cell_type": "code",
   "execution_count": 2,
   "metadata": {
    "id": "3D5TPRX2JSYP"
   },
   "outputs": [],
   "source": [
    "import numpy as np\n",
    "import pandas as pd\n",
    "import matplotlib.pyplot as plt\n",
    "import seaborn as sns\n",
    "import warnings\n",
    "warnings.filterwarnings('ignore')\n",
    "from sklearn.naive_bayes import GaussianNB\n",
    "from sklearn.model_selection import train_test_split\n",
    "from sklearn.metrics import accuracy_score, confusion_matrix, classification_report\n",
    "from sklearn.decomposition import PCA\n",
    "from sklearn.cluster import KMeans, AgglomerativeClustering\n",
    "from sklearn.mixture import GaussianMixture\n",
    "from sklearn.metrics import silhouette_score\n",
    "from sklearn.tree import DecisionTreeClassifier\n",
    "from sklearn.model_selection import cross_val_score\n",
    "from sklearn.ensemble import RandomForestClassifier\n",
    "from sklearn.linear_model import LogisticRegression\n",
    "from sklearn.neural_network import MLPClassifier\n",
    "from sklearn.model_selection import GridSearchCV\n",
    "from tensorflow.keras.models import Sequential\n",
    "from tensorflow.keras.layers import Conv2D, MaxPooling2D, Flatten, Dense, Dropout\n",
    "from tensorflow.keras.optimizers import Adam\n",
    "from sklearn.cluster import KMeans"
   ]
  },
  {
   "cell_type": "markdown",
   "metadata": {
    "id": "4GRGmCaVFzro"
   },
   "source": [
    "**Reading Dataset and Exploring Dimensions**"
   ]
  },
  {
   "cell_type": "code",
   "execution_count": 3,
   "metadata": {
    "id": "8GDrb11yJtCU"
   },
   "outputs": [],
   "source": [
    "smiley_X = np.load('/Users/mac/Documents/F21DL/smiley_dataset 2/smiley_X.npy')\n",
    "smiley_Y = np.load('/Users/mac/Documents/F21DL/smiley_dataset 2/smiley_Y.npy')"
   ]
  },
  {
   "cell_type": "code",
   "execution_count": 4,
   "metadata": {
    "colab": {
     "base_uri": "https://localhost:8080/"
    },
    "id": "Ed-VBj7_NGBW",
    "outputId": "77fc824c-f922-495f-92de-5819e1c5bc76"
   },
   "outputs": [
    {
     "data": {
      "text/plain": [
       "(204, 9, 9, 1)"
      ]
     },
     "execution_count": 4,
     "metadata": {},
     "output_type": "execute_result"
    }
   ],
   "source": [
    "smiley_X.shape"
   ]
  },
  {
   "cell_type": "code",
   "execution_count": 5,
   "metadata": {
    "colab": {
     "base_uri": "https://localhost:8080/"
    },
    "id": "x1k1EQGYNH2E",
    "outputId": "904ae539-c1bc-4a3c-c38f-3ae61ab5aad1"
   },
   "outputs": [
    {
     "data": {
      "text/plain": [
       "(204,)"
      ]
     },
     "execution_count": 5,
     "metadata": {},
     "output_type": "execute_result"
    }
   ],
   "source": [
    "smiley_Y.shape"
   ]
  },
  {
   "cell_type": "code",
   "execution_count": 6,
   "metadata": {
    "id": "8q-zayZOKEty"
   },
   "outputs": [],
   "source": [
    "smiley_noisy_X = np.load('/Users/mac/Documents/F21DL/smiley_dataset 2/smiley_noisy_X.npy')\n",
    "smiley_noisy_Y = np.load('/Users/mac/Documents/F21DL/smiley_dataset 2/smiley_noisy_Y.npy')"
   ]
  },
  {
   "cell_type": "code",
   "execution_count": 7,
   "metadata": {
    "colab": {
     "base_uri": "https://localhost:8080/"
    },
    "id": "AsniVlnlNJ0e",
    "outputId": "845c53f2-6bae-4adc-e057-90157bff473a"
   },
   "outputs": [
    {
     "data": {
      "text/plain": [
       "(204, 9, 9, 1)"
      ]
     },
     "execution_count": 7,
     "metadata": {},
     "output_type": "execute_result"
    }
   ],
   "source": [
    "smiley_noisy_X.shape"
   ]
  },
  {
   "cell_type": "code",
   "execution_count": 8,
   "metadata": {
    "colab": {
     "base_uri": "https://localhost:8080/"
    },
    "id": "Net4k78pNMgN",
    "outputId": "7de112a1-858e-4711-a0a4-5eea8e1573a5"
   },
   "outputs": [
    {
     "data": {
      "text/plain": [
       "(204,)"
      ]
     },
     "execution_count": 8,
     "metadata": {},
     "output_type": "execute_result"
    }
   ],
   "source": [
    "smiley_noisy_Y.shape"
   ]
  },
  {
   "cell_type": "markdown",
   "metadata": {
    "id": "5XhBT8nznGUs"
   },
   "source": [
    "**Part 1**"
   ]
  },
  {
   "cell_type": "markdown",
   "metadata": {
    "id": "wBzKasDqnIeL"
   },
   "source": [
    "Without Noise"
   ]
  },
  {
   "cell_type": "code",
   "execution_count": 9,
   "metadata": {
    "colab": {
     "base_uri": "https://localhost:8080/",
     "height": 430
    },
    "id": "-fK_1F1dOE53",
    "outputId": "8a22a5bc-6dfd-49d1-837a-544e04e2670d"
   },
   "outputs": [
    {
     "data": {
      "image/png": "[encoded data removed]",
      "text/plain": [
       "<Figure size 640x480 with 1 Axes>"
      ]
     },
     "metadata": {},
     "output_type": "display_data"
    }
   ],
   "source": [
    "# Display the first image in the data\n",
    "plt.imshow(smiley_X[0])\n",
    "plt.show()"
   ]
  },
  {
   "cell_type": "code",
   "execution_count": 10,
   "metadata": {
    "colab": {
     "base_uri": "https://localhost:8080/",
     "height": 1000
    },
    "id": "lSUkzd4xOI94",
    "outputId": "b3386773-375e-46ef-fb16-f9d68c2d8465"
   },
   "outputs": [
    {
     "data": {
      "image/png": "[encoded data removed]",
      "text/plain": [
       "<Figure size 1500x1500 with 25 Axes>"
      ]
     },
     "metadata": {},
     "output_type": "display_data"
    }
   ],
   "source": [
    "# Visualize all images in a grid layout\n",
    "def visualize_images_grid(image_data, num_samples_to_show=25, num_columns=5):\n",
    "    num_rows = (num_samples_to_show - 1) // num_columns + 1\n",
    "    fig, axes = plt.subplots(num_rows, num_columns, figsize=(15, 3 * num_rows))\n",
    "    for i in range(num_samples_to_show):\n",
    "        row = i // num_columns\n",
    "        col = i % num_columns\n",
    "        axes[row, col].imshow(image_data[i])\n",
    "        axes[row, col].set_title(f\"Image {i + 1}\")\n",
    "        axes[row, col].axis('off')\n",
    "    plt.show()\n",
    "\n",
    "# Plot a grid of sample images\n",
    "num_samples_to_show = 25\n",
    "num_columns = 5  # Number of columns in the grid\n",
    "visualize_images_grid(smiley_X, num_samples_to_show, num_columns)"
   ]
  },
  {
   "cell_type": "code",
   "execution_count": 11,
   "metadata": {
    "colab": {
     "base_uri": "https://localhost:8080/"
    },
    "id": "xD4ujhKaN483",
    "outputId": "f2d136eb-51f0-48f7-f6b1-d8ed15b2e2c5"
   },
   "outputs": [
    {
     "data": {
      "text/plain": [
       "array([2., 2., 2., 2., 2., 2., 2., 2., 2., 2., 2., 2., 2., 2., 2., 2., 2.,\n",
       "       2., 2., 2., 2., 2., 2., 2., 1., 1., 1., 1., 1., 1., 1., 1., 1., 1.,\n",
       "       1., 1., 1., 1., 1., 1., 1., 1., 1., 1., 0., 0., 0., 0., 0., 0., 0.,\n",
       "       0., 0., 0., 0., 0., 0., 0., 0., 0., 0., 0., 0., 0., 0., 0., 0., 0.,\n",
       "       2., 2., 2., 2., 2., 2., 2., 2., 2., 2., 2., 2., 2., 2., 2., 2., 2.,\n",
       "       2., 2., 2., 2., 2., 2., 2., 1., 1., 1., 1., 1., 1., 1., 1., 1., 1.,\n",
       "       1., 1., 1., 1., 1., 1., 1., 1., 1., 1., 0., 0., 0., 0., 0., 0., 0.,\n",
       "       0., 0., 0., 0., 0., 0., 0., 0., 0., 0., 0., 0., 0., 0., 0., 0., 0.,\n",
       "       2., 2., 2., 2., 2., 2., 2., 2., 2., 2., 2., 2., 2., 2., 2., 2., 2.,\n",
       "       2., 2., 2., 2., 2., 2., 2., 1., 1., 1., 1., 1., 1., 1., 1., 1., 1.,\n",
       "       1., 1., 1., 1., 1., 1., 1., 1., 1., 1., 0., 0., 0., 0., 0., 0., 0.,\n",
       "       0., 0., 0., 0., 0., 0., 0., 0., 0., 0., 0., 0., 0., 0., 0., 0., 0.])"
      ]
     },
     "execution_count": 11,
     "metadata": {},
     "output_type": "execute_result"
    }
   ],
   "source": [
    "smiley_Y"
   ]
  },
  {
   "cell_type": "code",
   "execution_count": 12,
   "metadata": {
    "colab": {
     "base_uri": "https://localhost:8080/"
    },
    "id": "moQQjgD2OyVg",
    "outputId": "57a9456c-235c-4bd3-9ca0-a3caef190d61"
   },
   "outputs": [
    {
     "name": "stdout",
     "output_type": "stream",
     "text": [
      "Number of 0s: 72\n",
      "Number of 1s: 60\n",
      "Number of 2s: 72\n"
     ]
    }
   ],
   "source": [
    "# Get the number of occurrences for each unique element in the array\n",
    "counts = np.bincount(smiley_noisy_Y.astype(int))\n",
    "\n",
    "# Print the counts in a nice format\n",
    "for element, count in enumerate(counts):\n",
    "    print(f\"Number of {element}s: {count}\")"
   ]
  },
  {
   "cell_type": "code",
   "execution_count": 13,
   "metadata": {
    "colab": {
     "base_uri": "https://localhost:8080/",
     "height": 472
    },
    "id": "-H7uWl6WPWU0",
    "outputId": "b2ae11bd-4dfa-4c3c-bb3b-7cfa54a5c945"
   },
   "outputs": [
    {
     "data": {
      "image/png": "[encoded data removed]",
      "text/plain": [
       "<Figure size 640x480 with 1 Axes>"
      ]
     },
     "metadata": {},
     "output_type": "display_data"
    }
   ],
   "source": [
    "# Create the bar chart\n",
    "plt.bar(range(len(counts)), counts, tick_label=range(len(counts)))\n",
    "plt.xlabel('Class')\n",
    "plt.ylabel('Distribution')\n",
    "plt.title('Class Distribution')\n",
    "plt.show()"
   ]
  },
  {
   "cell_type": "code",
   "execution_count": 14,
   "metadata": {
    "colab": {
     "base_uri": "https://localhost:8080/",
     "height": 157
    },
    "id": "yMLXTFlvPfJA",
    "outputId": "d54bddc9-5e1d-477f-f02d-18e52885ed31"
   },
   "outputs": [
    {
     "data": {
      "image/png": "[encoded data removed]",
      "text/plain": [
       "<Figure size 1500x300 with 10 Axes>"
      ]
     },
     "metadata": {},
     "output_type": "display_data"
    }
   ],
   "source": [
    "# Visualize the images with their corresponding labels\n",
    "def visualize_images_with_labels(image_data, labels, num_samples_to_show=5):\n",
    "    fig, axes = plt.subplots(1, num_samples_to_show, figsize=(15, 3))\n",
    "    for i, ax in enumerate(axes):\n",
    "        image = image_data[i]\n",
    "        label = labels[i]\n",
    "        ax.imshow(image)\n",
    "        ax.set_title(f\"Label: {label}\")\n",
    "        ax.axis('off')\n",
    "    plt.show()\n",
    "\n",
    "# Plot some sample images with their labels\n",
    "num_samples_to_show = 10\n",
    "visualize_images_with_labels(smiley_X, smiley_Y, num_samples_to_show)"
   ]
  },
  {
   "cell_type": "code",
   "execution_count": 15,
   "metadata": {
    "id": "qwwdGij5SFEm"
   },
   "outputs": [],
   "source": [
    "# Flatten the image data to make it two-dimensional\n",
    "num_samples, height, width, num_channels = smiley_X.shape\n",
    "X_flattened = smiley_X.reshape(num_samples, height * width * num_channels)"
   ]
  },
  {
   "cell_type": "code",
   "execution_count": 16,
   "metadata": {
    "id": "H-FsI0YQSI5x"
   },
   "outputs": [],
   "source": [
    "# Split the data into training and testing sets\n",
    "X_train, X_test, y_train, y_test = train_test_split(X_flattened, smiley_Y, test_size=0.2, random_state=42)"
   ]
  },
  {
   "cell_type": "code",
   "execution_count": 17,
   "metadata": {
    "id": "ari1Cnm5SRrD"
   },
   "outputs": [],
   "source": [
    "# Create the Naïve Bayes Classifier (Gaussian Naive Bayes)\n",
    "nb_classifier = GaussianNB()\n",
    "\n",
    "# Train the classifier\n",
    "nb_classifier.fit(X_train, y_train)\n",
    "\n",
    "# Make predictions on the testing data\n",
    "y_pred = nb_classifier.predict(X_test)"
   ]
  },
  {
   "cell_type": "code",
   "execution_count": 18,
   "metadata": {
    "colab": {
     "base_uri": "https://localhost:8080/",
     "height": 790
    },
    "id": "zqN1ySmGSUxx",
    "outputId": "d2843ddb-db10-49a8-b0f8-30a46799bd4d"
   },
   "outputs": [
    {
     "name": "stdout",
     "output_type": "stream",
     "text": [
      "Accuracy: 0.6585365853658537\n",
      "Confusion Matrix:\n"
     ]
    },
    {
     "data": {
      "image/png": "[encoded data removed]",
      "text/plain": [
       "<Figure size 800x600 with 1 Axes>"
      ]
     },
     "metadata": {},
     "output_type": "display_data"
    },
    {
     "name": "stdout",
     "output_type": "stream",
     "text": [
      "Classification Report:\n",
      "              precision    recall  f1-score   support\n",
      "\n",
      "         0.0       0.91      0.67      0.77        15\n",
      "         1.0       0.38      0.67      0.48         9\n",
      "         2.0       0.79      0.65      0.71        17\n",
      "\n",
      "    accuracy                           0.66        41\n",
      "   macro avg       0.69      0.66      0.65        41\n",
      "weighted avg       0.74      0.66      0.68        41\n",
      "\n"
     ]
    }
   ],
   "source": [
    "# Calculate accuracy\n",
    "accuracy = accuracy_score(y_test, y_pred)\n",
    "print(\"Accuracy:\", accuracy)\n",
    "\n",
    "# Calculate confusion matrix\n",
    "conf_matrix = confusion_matrix(y_test, y_pred)\n",
    "print(\"Confusion Matrix:\")\n",
    "\n",
    "# Generate the heatmap for the confusion matrix\n",
    "plt.figure(figsize=(8, 6))\n",
    "sns.heatmap(conf_matrix, annot=True, fmt='d', cmap='Blues', cbar=False,\n",
    "            xticklabels=['Class 0', 'Class 1', 'Class 2'], yticklabels=['Class 0', 'Class 1'])\n",
    "plt.xlabel('Predicted Labels')\n",
    "plt.ylabel('True Labels')\n",
    "plt.title('Confusion Matrix Heatmap')\n",
    "plt.show()\n",
    "\n",
    "# Calculate classification report\n",
    "classification_rep = classification_report(y_test, y_pred)\n",
    "print(\"Classification Report:\")\n",
    "print(classification_rep)"
   ]
  },
  {
   "cell_type": "markdown",
   "metadata": {
    "id": "WhWqjfuDnP29"
   },
   "source": [
    "With Noise"
   ]
  },
  {
   "cell_type": "code",
   "execution_count": 19,
   "metadata": {
    "colab": {
     "base_uri": "https://localhost:8080/",
     "height": 430
    },
    "id": "6ISn3qelRYNF",
    "outputId": "7bd4a4b9-ddbe-436e-c650-df786de60b99"
   },
   "outputs": [
    {
     "data": {
      "image/png": "[encoded data removed]",
      "text/plain": [
       "<Figure size 640x480 with 1 Axes>"
      ]
     },
     "metadata": {},
     "output_type": "display_data"
    }
   ],
   "source": [
    "# Display the first image in the data\n",
    "plt.imshow(smiley_noisy_X[0])\n",
    "plt.show()"
   ]
  },
  {
   "cell_type": "code",
   "execution_count": 20,
   "metadata": {
    "colab": {
     "base_uri": "https://localhost:8080/",
     "height": 1000
    },
    "id": "y2PJQepwUkYr",
    "outputId": "c1ede5ba-a2e5-4388-9550-d7e9ac10fc8a"
   },
   "outputs": [
    {
     "data": {
      "image/png": "[encoded data removed]",
      "text/plain": [
       "<Figure size 1500x1500 with 25 Axes>"
      ]
     },
     "metadata": {},
     "output_type": "display_data"
    }
   ],
   "source": [
    "# Visualize all images in a grid layout\n",
    "def visualize_images_grid(image_data, num_samples_to_show=25, num_columns=5):\n",
    "    num_rows = (num_samples_to_show - 1) // num_columns + 1\n",
    "    fig, axes = plt.subplots(num_rows, num_columns, figsize=(15, 3 * num_rows))\n",
    "    for i in range(num_samples_to_show):\n",
    "        row = i // num_columns\n",
    "        col = i % num_columns\n",
    "        axes[row, col].imshow(image_data[i])\n",
    "        axes[row, col].set_title(f\"Image {i + 1}\")\n",
    "        axes[row, col].axis('off')\n",
    "    plt.show()\n",
    "\n",
    "# Plot a grid of sample images\n",
    "num_samples_to_show = 25\n",
    "num_columns = 5  # Number of columns in the grid\n",
    "visualize_images_grid(smiley_noisy_X, num_samples_to_show, num_columns)"
   ]
  },
  {
   "cell_type": "code",
   "execution_count": 21,
   "metadata": {
    "colab": {
     "base_uri": "https://localhost:8080/"
    },
    "id": "C7v26nTIU_ea",
    "outputId": "21624b32-6286-425f-e504-252041b007d9"
   },
   "outputs": [
    {
     "data": {
      "text/plain": [
       "array([2., 2., 2., 2., 2., 2., 2., 2., 2., 2., 2., 2., 2., 2., 2., 2., 2.,\n",
       "       2., 2., 2., 2., 2., 2., 2., 1., 1., 1., 1., 1., 1., 1., 1., 1., 1.,\n",
       "       1., 1., 1., 1., 1., 1., 1., 1., 1., 1., 0., 0., 0., 0., 0., 0., 0.,\n",
       "       0., 0., 0., 0., 0., 0., 0., 0., 0., 0., 0., 0., 0., 0., 0., 0., 0.,\n",
       "       2., 2., 2., 2., 2., 2., 2., 2., 2., 2., 2., 2., 2., 2., 2., 2., 2.,\n",
       "       2., 2., 2., 2., 2., 2., 2., 1., 1., 1., 1., 1., 1., 1., 1., 1., 1.,\n",
       "       1., 1., 1., 1., 1., 1., 1., 1., 1., 1., 0., 0., 0., 0., 0., 0., 0.,\n",
       "       0., 0., 0., 0., 0., 0., 0., 0., 0., 0., 0., 0., 0., 0., 0., 0., 0.,\n",
       "       2., 2., 2., 2., 2., 2., 2., 2., 2., 2., 2., 2., 2., 2., 2., 2., 2.,\n",
       "       2., 2., 2., 2., 2., 2., 2., 1., 1., 1., 1., 1., 1., 1., 1., 1., 1.,\n",
       "       1., 1., 1., 1., 1., 1., 1., 1., 1., 1., 0., 0., 0., 0., 0., 0., 0.,\n",
       "       0., 0., 0., 0., 0., 0., 0., 0., 0., 0., 0., 0., 0., 0., 0., 0., 0.])"
      ]
     },
     "execution_count": 21,
     "metadata": {},
     "output_type": "execute_result"
    }
   ],
   "source": [
    "smiley_noisy_Y"
   ]
  },
  {
   "cell_type": "code",
   "execution_count": 22,
   "metadata": {
    "colab": {
     "base_uri": "https://localhost:8080/"
    },
    "id": "hFxjmGShUuYp",
    "outputId": "1fb5ac86-dc93-488e-9bee-90b6089444d3"
   },
   "outputs": [
    {
     "name": "stdout",
     "output_type": "stream",
     "text": [
      "Number of 0s: 72\n",
      "Number of 1s: 60\n",
      "Number of 2s: 72\n"
     ]
    }
   ],
   "source": [
    "# Get the number of occurrences for each unique element in the array\n",
    "counts = np.bincount(smiley_noisy_Y.astype(int))\n",
    "\n",
    "# Print the counts in a nice format\n",
    "for element, count in enumerate(counts):\n",
    "    print(f\"Number of {element}s: {count}\")"
   ]
  },
  {
   "cell_type": "code",
   "execution_count": 23,
   "metadata": {
    "colab": {
     "base_uri": "https://localhost:8080/",
     "height": 472
    },
    "id": "WatvSX-6VUZl",
    "outputId": "6b590ddb-7fc5-4873-9964-c581476c98c9"
   },
   "outputs": [
    {
     "data": {
      "image/png": "[encoded data removed]",
      "text/plain": [
       "<Figure size 640x480 with 1 Axes>"
      ]
     },
     "metadata": {},
     "output_type": "display_data"
    }
   ],
   "source": [
    "# Create the bar chart\n",
    "plt.bar(range(len(counts)), counts, tick_label=range(len(counts)))\n",
    "plt.xlabel('Class')\n",
    "plt.ylabel('Distribution')\n",
    "plt.title('Class Distribution')\n",
    "plt.show()"
   ]
  },
  {
   "cell_type": "code",
   "execution_count": 24,
   "metadata": {
    "colab": {
     "base_uri": "https://localhost:8080/",
     "height": 157
    },
    "id": "dShns-HOV28o",
    "outputId": "bf136c9b-54f8-4f20-b9bd-b86d01fc8cfa"
   },
   "outputs": [
    {
     "data": {
      "image/png": "[encoded data removed]",
      "text/plain": [
       "<Figure size 1500x300 with 10 Axes>"
      ]
     },
     "metadata": {},
     "output_type": "display_data"
    }
   ],
   "source": [
    "# Visualize the images with their corresponding labels\n",
    "def visualize_images_with_labels(image_data, labels, num_samples_to_show=5):\n",
    "    fig, axes = plt.subplots(1, num_samples_to_show, figsize=(15, 3))\n",
    "    for i, ax in enumerate(axes):\n",
    "        image = image_data[i]\n",
    "        label = labels[i]\n",
    "        ax.imshow(image)\n",
    "        ax.set_title(f\"Label: {label}\")\n",
    "        ax.axis('off')\n",
    "    plt.show()\n",
    "\n",
    "# Plot some sample images with their labels\n",
    "num_samples_to_show = 10\n",
    "visualize_images_with_labels(smiley_noisy_X, smiley_noisy_Y, num_samples_to_show)"
   ]
  },
  {
   "cell_type": "code",
   "execution_count": 25,
   "metadata": {
    "id": "sJlacJwqWRcm"
   },
   "outputs": [],
   "source": [
    "# Flatten the image data to make it two-dimensional\n",
    "num_samples, height, width, num_channels = smiley_X.shape\n",
    "X_flattened = smiley_X.reshape(num_samples, height * width * num_channels)"
   ]
  },
  {
   "cell_type": "code",
   "execution_count": 26,
   "metadata": {
    "id": "POorDD0LWYLq"
   },
   "outputs": [],
   "source": [
    "# Split the data into training and testing sets\n",
    "X_train, X_test, y_train, y_test = train_test_split(X_flattened, smiley_Y, test_size=0.2, random_state=42)"
   ]
  },
  {
   "cell_type": "code",
   "execution_count": 27,
   "metadata": {
    "id": "fKMU3Ai7WcTx"
   },
   "outputs": [],
   "source": [
    "# Create the Naïve Bayes Classifier (Gaussian Naive Bayes)\n",
    "nb_classifier = GaussianNB()\n",
    "\n",
    "# Train the classifier\n",
    "nb_classifier.fit(X_train, y_train)\n",
    "\n",
    "# Make predictions on the testing data\n",
    "y_pred = nb_classifier.predict(X_test)"
   ]
  },
  {
   "cell_type": "code",
   "execution_count": 28,
   "metadata": {
    "colab": {
     "base_uri": "https://localhost:8080/",
     "height": 790
    },
    "id": "ErNjDpC1WdVq",
    "outputId": "aa42b90b-1ccc-482b-ef98-08e3482e1068"
   },
   "outputs": [
    {
     "name": "stdout",
     "output_type": "stream",
     "text": [
      "Accuracy: 0.6585365853658537\n",
      "Confusion Matrix:\n"
     ]
    },
    {
     "data": {
      "image/png": "[encoded data removed]",
      "text/plain": [
       "<Figure size 800x600 with 1 Axes>"
      ]
     },
     "metadata": {},
     "output_type": "display_data"
    },
    {
     "name": "stdout",
     "output_type": "stream",
     "text": [
      "Classification Report:\n",
      "              precision    recall  f1-score   support\n",
      "\n",
      "         0.0       0.91      0.67      0.77        15\n",
      "         1.0       0.38      0.67      0.48         9\n",
      "         2.0       0.79      0.65      0.71        17\n",
      "\n",
      "    accuracy                           0.66        41\n",
      "   macro avg       0.69      0.66      0.65        41\n",
      "weighted avg       0.74      0.66      0.68        41\n",
      "\n"
     ]
    }
   ],
   "source": [
    "# Calculate accuracy\n",
    "accuracy = accuracy_score(y_test, y_pred)\n",
    "print(\"Accuracy:\", accuracy)\n",
    "\n",
    "# Calculate confusion matrix\n",
    "conf_matrix = confusion_matrix(y_test, y_pred)\n",
    "print(\"Confusion Matrix:\")\n",
    "\n",
    "# Generate the heatmap for the confusion matrix\n",
    "plt.figure(figsize=(8, 6))\n",
    "sns.heatmap(conf_matrix, annot=True, fmt='d', cmap='Blues', cbar=False,\n",
    "            xticklabels=['Class 0', 'Class 1', 'Class 2'], yticklabels=['Class 0', 'Class 1'])\n",
    "plt.xlabel('Predicted Labels')\n",
    "plt.ylabel('True Labels')\n",
    "plt.title('Confusion Matrix Heatmap')\n",
    "plt.show()\n",
    "\n",
    "# Calculate classification report\n",
    "classification_rep = classification_report(y_test, y_pred)\n",
    "print(\"Classification Report:\")\n",
    "print(classification_rep)"
   ]
  },
  {
   "cell_type": "markdown",
   "metadata": {
    "id": "s42e5K60nTYv"
   },
   "source": [
    "Additional: Without Noise"
   ]
  },
  {
   "cell_type": "code",
   "execution_count": 29,
   "metadata": {
    "id": "epUxlTAsam14"
   },
   "outputs": [],
   "source": [
    "# Flatten the image data to make it two-dimensional\n",
    "num_samples, height, width, num_channels = smiley_X.shape\n",
    "X_flattened = smiley_X.reshape(num_samples, height * width * num_channels)\n",
    "\n",
    "# Convert to pandas DataFrame for easier manipulation and visualization\n",
    "df = pd.DataFrame(X_flattened)"
   ]
  },
  {
   "cell_type": "code",
   "execution_count": 30,
   "metadata": {
    "colab": {
     "base_uri": "https://localhost:8080/"
    },
    "id": "S4XHqDDPaHWG",
    "outputId": "768fb416-0c71-4bbb-ea05-a2ac2f3790e3"
   },
   "outputs": [
    {
     "data": {
      "text/plain": [
       "81"
      ]
     },
     "execution_count": 30,
     "metadata": {},
     "output_type": "execute_result"
    }
   ],
   "source": [
    "num_features = X_flattened.shape[1]\n",
    "num_features"
   ]
  },
  {
   "cell_type": "code",
   "execution_count": 31,
   "metadata": {
    "colab": {
     "base_uri": "https://localhost:8080/"
    },
    "id": "L0ARqiUlbGZ0",
    "outputId": "7828bd45-9c54-40c0-fc63-5c51ef256247"
   },
   "outputs": [
    {
     "name": "stdout",
     "output_type": "stream",
     "text": [
      "Correlation Table (Entire Data Set):\n",
      "       Feature 1  Feature 2  Correlation\n",
      "4836         59         57          1.0\n",
      "3279         40         39          1.0\n",
      "3360         41         39          1.0\n",
      "4676         57         59          1.0\n",
      "3281         40         41          1.0\n",
      "...         ...        ...          ...\n",
      "6493         80         13          NaN\n",
      "6496         80         16          NaN\n",
      "6511         80         31          NaN\n",
      "6512         80         32          NaN\n",
      "6516         80         36          NaN\n",
      "\n",
      "[6480 rows x 3 columns]\n",
      "      Feature 1  Feature 2  Correlation\n",
      "4836         59         57          1.0\n",
      "3279         40         39          1.0\n",
      "3360         41         39          1.0\n",
      "4676         57         59          1.0\n",
      "3281         40         41          1.0\n",
      "4757         58         59          1.0\n",
      "3361         41         40          1.0\n",
      "4755         58         57          1.0\n",
      "5574         68         66          1.0\n",
      "3200         39         41          1.0\n",
      "4837         59         58          1.0\n",
      "3199         39         40          1.0\n",
      "4675         57         58          1.0\n",
      "5414         66         68          1.0\n",
      "\n",
      "Correlation Table (Class 0.0):\n",
      "       Feature 1  Feature 2  Correlation\n",
      "3360         41         39          1.0\n",
      "3937         48         49          1.0\n",
      "3199         39         40          1.0\n",
      "3858         47         51          1.0\n",
      "3200         39         41          1.0\n",
      "...         ...        ...          ...\n",
      "6547         80         67          NaN\n",
      "6548         80         68          NaN\n",
      "6551         80         71          NaN\n",
      "6553         80         73          NaN\n",
      "6559         80         79          NaN\n",
      "\n",
      "[6480 rows x 3 columns]\n",
      "      Feature 1  Feature 2  Correlation\n",
      "4836         59         57          1.0\n",
      "3279         40         39          1.0\n",
      "3360         41         39          1.0\n",
      "4676         57         59          1.0\n",
      "3281         40         41          1.0\n",
      "4757         58         59          1.0\n",
      "3361         41         40          1.0\n",
      "4755         58         57          1.0\n",
      "5574         68         66          1.0\n",
      "3200         39         41          1.0\n",
      "4837         59         58          1.0\n",
      "3199         39         40          1.0\n",
      "4675         57         58          1.0\n",
      "5414         66         68          1.0\n",
      "\n",
      "Correlation Table (Class 1.0):\n",
      "       Feature 1  Feature 2  Correlation\n",
      "4918         60         58          1.0\n",
      "4595         56         59          1.0\n",
      "4593         56         57          1.0\n",
      "4676         57         59          1.0\n",
      "4596         56         60          1.0\n",
      "...         ...        ...          ...\n",
      "6555         80         75          NaN\n",
      "6556         80         76          NaN\n",
      "6557         80         77          NaN\n",
      "6558         80         78          NaN\n",
      "6559         80         79          NaN\n",
      "\n",
      "[6480 rows x 3 columns]\n",
      "      Feature 1  Feature 2  Correlation\n",
      "4836         59         57          1.0\n",
      "3279         40         39          1.0\n",
      "3360         41         39          1.0\n",
      "4676         57         59          1.0\n",
      "3281         40         41          1.0\n",
      "4757         58         59          1.0\n",
      "3361         41         40          1.0\n",
      "4755         58         57          1.0\n",
      "5574         68         66          1.0\n",
      "3200         39         41          1.0\n",
      "4837         59         58          1.0\n",
      "3199         39         40          1.0\n",
      "4675         57         58          1.0\n",
      "5414         66         68          1.0\n",
      "\n",
      "Correlation Table (Class 2.0):\n",
      "       Feature 1  Feature 2  Correlation\n",
      "4258         52         46          1.0\n",
      "4836         59         57          1.0\n",
      "4755         58         57          1.0\n",
      "4019         49         50          1.0\n",
      "4676         57         59          1.0\n",
      "...         ...        ...          ...\n",
      "6553         80         73          NaN\n",
      "6554         80         74          NaN\n",
      "6555         80         75          NaN\n",
      "6556         80         76          NaN\n",
      "6558         80         78          NaN\n",
      "\n",
      "[6480 rows x 3 columns]\n",
      "      Feature 1  Feature 2  Correlation\n",
      "4836         59         57          1.0\n",
      "3279         40         39          1.0\n",
      "3360         41         39          1.0\n",
      "4676         57         59          1.0\n",
      "3281         40         41          1.0\n",
      "4757         58         59          1.0\n",
      "3361         41         40          1.0\n",
      "4755         58         57          1.0\n",
      "5574         68         66          1.0\n",
      "3200         39         41          1.0\n",
      "4837         59         58          1.0\n",
      "3199         39         40          1.0\n",
      "4675         57         58          1.0\n",
      "5414         66         68          1.0\n",
      "\n",
      "Number of features in data_set_1: 22\n",
      "Number of features in data_set_2: 5\n"
     ]
    }
   ],
   "source": [
    "# Calculate the correlation matrix for the entire data set\n",
    "correlation_matrix = df.corr()\n",
    "\n",
    "# Display Correlation Coefficients in a Tabular Format (Entire Data Set)\n",
    "correlation_table = correlation_matrix.unstack().reset_index()\n",
    "correlation_table.columns = ['Feature 1', 'Feature 2', 'Correlation']\n",
    "correlation_table = correlation_table[correlation_table['Feature 1'] != correlation_table['Feature 2']]\n",
    "correlation_table = correlation_table.sort_values(by='Correlation', ascending=False)\n",
    "print(\"Correlation Table (Entire Data Set):\\n\", correlation_table)\n",
    "\n",
    "# Display the pairs of features with a correlation of 1\n",
    "perfect_correlations = correlation_table[correlation_table['Correlation'] == 1]\n",
    "print(perfect_correlations)\n",
    "\n",
    "# Display Correlation Coefficients per Class\n",
    "# Create a DataFrame to store correlation coefficients per class\n",
    "correlation_tables_per_class = {}\n",
    "for class_label in np.unique(smiley_Y):\n",
    "    class_indices = np.where(smiley_Y == class_label)[0]\n",
    "    class_df = df.iloc[class_indices]\n",
    "    class_corr_matrix = class_df.corr()\n",
    "\n",
    "    # Convert correlation matrix to tabular format\n",
    "    class_corr_table = class_corr_matrix.unstack().reset_index()\n",
    "    class_corr_table.columns = ['Feature 1', 'Feature 2', 'Correlation']\n",
    "    class_corr_table = class_corr_table[class_corr_table['Feature 1'] != class_corr_table['Feature 2']]\n",
    "    class_corr_table = class_corr_table.sort_values(by='Correlation', ascending=False)\n",
    "\n",
    "    correlation_tables_per_class[class_label] = class_corr_table\n",
    "    print(f\"\\nCorrelation Table (Class {class_label}):\\n\", class_corr_table)\n",
    "\n",
    "    # Display the pairs of features with a correlation of 1\n",
    "    perfect_correlations = correlation_table[correlation_table['Correlation'] == 1]\n",
    "    print(perfect_correlations)\n",
    "\n",
    "# Identify Most Correlating Features\n",
    "# Find most correlating features overall (you can adjust the threshold as per your requirement)\n",
    "overall_threshold = 0.8\n",
    "most_correlating_overall = correlation_table[correlation_table['Correlation'] > overall_threshold]\n",
    "\n",
    "# Find most correlating features per class (you can adjust the threshold as per your requirement)\n",
    "class_threshold = 0.8\n",
    "most_correlating_per_class = {}\n",
    "for class_label, class_corr_table in correlation_tables_per_class.items():\n",
    "    most_correlating = class_corr_table[class_corr_table['Correlation'] > class_threshold]\n",
    "    most_correlating_per_class[class_label] = most_correlating\n",
    "\n",
    "# Form two Data Sets with Progressively Fewer Features\n",
    "# Choose features that are most correlated overall and per class\n",
    "selected_features_overall = set(most_correlating_overall['Feature 1']).union(set(most_correlating_overall['Feature 2']))\n",
    "selected_features_per_class = set(most_correlating_per_class[0]['Feature 1']).union(set(most_correlating_per_class[0]['Feature 2']))\n",
    "for class_label, most_correlating_features in most_correlating_per_class.items():\n",
    "    selected_features_per_class.intersection_update(set(most_correlating_features['Feature 1']).union(set(most_correlating_features['Feature 2'])))\n",
    "\n",
    "# Form two data sets by selecting progressively fewer features\n",
    "data_set_1 = df.iloc[:, list(selected_features_overall)]\n",
    "data_set_2 = df.iloc[:, list(selected_features_per_class)]\n",
    "\n",
    "# Print the number of features in each data set\n",
    "print(\"\\nNumber of features in data_set_1:\", len(selected_features_overall))\n",
    "print(\"Number of features in data_set_2:\", len(selected_features_per_class))"
   ]
  },
  {
   "cell_type": "code",
   "execution_count": 32,
   "metadata": {
    "colab": {
     "base_uri": "https://localhost:8080/",
     "height": 1000
    },
    "id": "wC_DE22pbqJE",
    "outputId": "fa876735-48de-4f5a-d0b8-fa796b97cd01"
   },
   "outputs": [
    {
     "name": "stdout",
     "output_type": "stream",
     "text": [
      "Evaluation for data_set_1:\n",
      "Accuracy: 0.6829268292682927\n",
      "Confusion Matrix:\n",
      "\n"
     ]
    },
    {
     "data": {
      "image/png": "[encoded data removed]",
      "text/plain": [
       "<Figure size 800x600 with 2 Axes>"
      ]
     },
     "metadata": {},
     "output_type": "display_data"
    },
    {
     "name": "stdout",
     "output_type": "stream",
     "text": [
      "Classification Report:\n",
      "               precision    recall  f1-score   support\n",
      "\n",
      "         0.0       1.00      0.60      0.75        15\n",
      "         1.0       0.41      1.00      0.58         9\n",
      "         2.0       1.00      0.59      0.74        17\n",
      "\n",
      "    accuracy                           0.68        41\n",
      "   macro avg       0.80      0.73      0.69        41\n",
      "weighted avg       0.87      0.68      0.71        41\n",
      "\n",
      "\n",
      "Evaluation for data_set_2:\n",
      "Accuracy: 0.2682926829268293\n",
      "Confusion Matrix:\n",
      "\n"
     ]
    },
    {
     "data": {
      "image/png": "[encoded data removed]",
      "text/plain": [
       "<Figure size 800x600 with 2 Axes>"
      ]
     },
     "metadata": {},
     "output_type": "display_data"
    },
    {
     "name": "stdout",
     "output_type": "stream",
     "text": [
      "Classification Report:\n",
      "               precision    recall  f1-score   support\n",
      "\n",
      "         0.0       0.00      0.00      0.00        15\n",
      "         1.0       0.00      0.00      0.00         9\n",
      "         2.0       0.58      0.65      0.61        17\n",
      "\n",
      "    accuracy                           0.27        41\n",
      "   macro avg       0.19      0.22      0.20        41\n",
      "weighted avg       0.24      0.27      0.25        41\n",
      "\n"
     ]
    }
   ],
   "source": [
    "# Split the data into training and testing sets\n",
    "X_train_1, X_test_1, y_train_1, y_test_1 = train_test_split(data_set_1, smiley_Y, test_size=0.2, random_state=42)\n",
    "X_train_2, X_test_2, y_train_2, y_test_2 = train_test_split(data_set_2, smiley_Y, test_size=0.2, random_state=42)\n",
    "\n",
    "# Initialize Gaussian Naive Bayes classifiers\n",
    "gnb_1 = GaussianNB()\n",
    "gnb_2 = GaussianNB()\n",
    "\n",
    "# Train the classifiers on the training data\n",
    "gnb_1.fit(X_train_1, y_train_1)\n",
    "gnb_2.fit(X_train_2, y_train_2)\n",
    "\n",
    "# Make predictions on the test data\n",
    "y_pred_1 = gnb_1.predict(X_test_1)\n",
    "y_pred_2 = gnb_2.predict(X_test_2)\n",
    "\n",
    "# Evaluate the classifiers using the old metrics\n",
    "accuracy_1 = accuracy_score(y_test_1, y_pred_1)\n",
    "accuracy_2 = accuracy_score(y_test_2, y_pred_2)\n",
    "\n",
    "conf_matrix_1 = confusion_matrix(y_test_1, y_pred_1)\n",
    "conf_matrix_2 = confusion_matrix(y_test_2, y_pred_2)\n",
    "\n",
    "classification_rep_1 = classification_report(y_test_1, y_pred_1)\n",
    "classification_rep_2 = classification_report(y_test_2, y_pred_2)\n",
    "\n",
    "# Print the evaluation results\n",
    "print(\"Evaluation for data_set_1:\")\n",
    "print(\"Accuracy:\", accuracy_1)\n",
    "print(\"Confusion Matrix:\\n\")\n",
    "plt.figure(figsize=(8, 6))\n",
    "sns.heatmap(conf_matrix_1, annot=True, cmap='Blues', fmt='d')\n",
    "plt.title(\"Confusion Matrix - data_set_1\")\n",
    "plt.xlabel(\"Predicted Labels\")\n",
    "plt.ylabel(\"True Labels\")\n",
    "plt.show()\n",
    "print(\"Classification Report:\\n\", classification_rep_1)\n",
    "\n",
    "print(\"\\nEvaluation for data_set_2:\")\n",
    "print(\"Accuracy:\", accuracy_2)\n",
    "print(\"Confusion Matrix:\\n\")\n",
    "plt.figure(figsize=(8, 6))\n",
    "sns.heatmap(conf_matrix_2, annot=True, cmap='Blues', fmt='d')\n",
    "plt.title(\"Confusion Matrix - data_set_2\")\n",
    "plt.xlabel(\"Predicted Labels\")\n",
    "plt.ylabel(\"True Labels\")\n",
    "plt.show()\n",
    "print(\"Classification Report:\\n\", classification_rep_2)"
   ]
  },
  {
   "cell_type": "markdown",
   "metadata": {
    "id": "I8ZBjniqnZs8"
   },
   "source": [
    "Additional: With Noise"
   ]
  },
  {
   "cell_type": "code",
   "execution_count": 33,
   "metadata": {
    "id": "kTfoKQcPl059"
   },
   "outputs": [],
   "source": [
    "# Flatten the image data to make it two-dimensional\n",
    "num_samples, height, width, num_channels = smiley_noisy_X.shape\n",
    "X_flattened = smiley_noisy_X.reshape(num_samples, height * width * num_channels)\n",
    "\n",
    "# Convert to pandas DataFrame for easier manipulation and visualization\n",
    "df = pd.DataFrame(X_flattened)"
   ]
  },
  {
   "cell_type": "code",
   "execution_count": 34,
   "metadata": {
    "colab": {
     "base_uri": "https://localhost:8080/"
    },
    "id": "nTisVuR2mjmG",
    "outputId": "1df65921-f86e-42aa-8de5-7d880364612c"
   },
   "outputs": [
    {
     "data": {
      "text/plain": [
       "81"
      ]
     },
     "execution_count": 34,
     "metadata": {},
     "output_type": "execute_result"
    }
   ],
   "source": [
    "num_features = X_flattened.shape[1]\n",
    "num_features"
   ]
  },
  {
   "cell_type": "code",
   "execution_count": 35,
   "metadata": {
    "colab": {
     "base_uri": "https://localhost:8080/"
    },
    "id": "PmRh0xKumknz",
    "outputId": "1ae1f43b-53de-4dd3-fece-988ac51e186f"
   },
   "outputs": [
    {
     "name": "stdout",
     "output_type": "stream",
     "text": [
      "Correlation Table (Entire Data Set):\n",
      "       Feature 1  Feature 2  Correlation\n",
      "3938         48         50      1.00000\n",
      "4755         58         57      1.00000\n",
      "4675         57         58      1.00000\n",
      "4098         50         48      1.00000\n",
      "4837         59         58      0.98832\n",
      "...         ...        ...          ...\n",
      "6515         80         35          NaN\n",
      "6525         80         45          NaN\n",
      "6549         80         69          NaN\n",
      "6555         80         75          NaN\n",
      "6556         80         76          NaN\n",
      "\n",
      "[6480 rows x 3 columns]\n",
      "      Feature 1  Feature 2  Correlation\n",
      "3938         48         50          1.0\n",
      "4755         58         57          1.0\n",
      "4675         57         58          1.0\n",
      "4098         50         48          1.0\n",
      "\n",
      "Correlation Table (Class 0.0):\n",
      "       Feature 1  Feature 2  Correlation\n",
      "3279         40         39          1.0\n",
      "3130         38         52          1.0\n",
      "4250         52         38          1.0\n",
      "4178         51         47          1.0\n",
      "4098         50         48          1.0\n",
      "...         ...        ...          ...\n",
      "6555         80         75          NaN\n",
      "6556         80         76          NaN\n",
      "6557         80         77          NaN\n",
      "6558         80         78          NaN\n",
      "6559         80         79          NaN\n",
      "\n",
      "[6480 rows x 3 columns]\n",
      "      Feature 1  Feature 2  Correlation\n",
      "3938         48         50          1.0\n",
      "4755         58         57          1.0\n",
      "4675         57         58          1.0\n",
      "4098         50         48          1.0\n",
      "\n",
      "Correlation Table (Class 1.0):\n",
      "       Feature 1  Feature 2  Correlation\n",
      "4595         56         59          1.0\n",
      "4676         57         59          1.0\n",
      "4099         50         49          1.0\n",
      "4837         59         58          1.0\n",
      "4019         49         50          1.0\n",
      "...         ...        ...          ...\n",
      "6555         80         75          NaN\n",
      "6556         80         76          NaN\n",
      "6557         80         77          NaN\n",
      "6558         80         78          NaN\n",
      "6559         80         79          NaN\n",
      "\n",
      "[6480 rows x 3 columns]\n",
      "      Feature 1  Feature 2  Correlation\n",
      "3938         48         50          1.0\n",
      "4755         58         57          1.0\n",
      "4675         57         58          1.0\n",
      "4098         50         48          1.0\n",
      "\n",
      "Correlation Table (Class 2.0):\n",
      "       Feature 1  Feature 2  Correlation\n",
      "4757         58         59          1.0\n",
      "4837         59         58          1.0\n",
      "4098         50         48          1.0\n",
      "4916         60         56          1.0\n",
      "4755         58         57          1.0\n",
      "...         ...        ...          ...\n",
      "6552         80         72          NaN\n",
      "6553         80         73          NaN\n",
      "6555         80         75          NaN\n",
      "6556         80         76          NaN\n",
      "6559         80         79          NaN\n",
      "\n",
      "[6480 rows x 3 columns]\n",
      "      Feature 1  Feature 2  Correlation\n",
      "3938         48         50          1.0\n",
      "4755         58         57          1.0\n",
      "4675         57         58          1.0\n",
      "4098         50         48          1.0\n",
      "\n",
      "Number of features in data_set_1: 22\n",
      "Number of features in data_set_2: 5\n"
     ]
    }
   ],
   "source": [
    "# Calculate the correlation matrix for the entire data set\n",
    "correlation_matrix = df.corr()\n",
    "\n",
    "# Display Correlation Coefficients in a Tabular Format (Entire Data Set)\n",
    "correlation_table = correlation_matrix.unstack().reset_index()\n",
    "correlation_table.columns = ['Feature 1', 'Feature 2', 'Correlation']\n",
    "correlation_table = correlation_table[correlation_table['Feature 1'] != correlation_table['Feature 2']]\n",
    "correlation_table = correlation_table.sort_values(by='Correlation', ascending=False)\n",
    "print(\"Correlation Table (Entire Data Set):\\n\", correlation_table)\n",
    "\n",
    "# Display the pairs of features with a correlation of 1\n",
    "perfect_correlations = correlation_table[correlation_table['Correlation'] == 1]\n",
    "print(perfect_correlations)\n",
    "\n",
    "# Display Correlation Coefficients per Class\n",
    "# Create a DataFrame to store correlation coefficients per class\n",
    "correlation_tables_per_class = {}\n",
    "for class_label in np.unique(smiley_noisy_Y):\n",
    "    class_indices = np.where(smiley_noisy_Y == class_label)[0]\n",
    "    class_df = df.iloc[class_indices]\n",
    "    class_corr_matrix = class_df.corr()\n",
    "\n",
    "    # Convert correlation matrix to tabular format\n",
    "    class_corr_table = class_corr_matrix.unstack().reset_index()\n",
    "    class_corr_table.columns = ['Feature 1', 'Feature 2', 'Correlation']\n",
    "    class_corr_table = class_corr_table[class_corr_table['Feature 1'] != class_corr_table['Feature 2']]\n",
    "    class_corr_table = class_corr_table.sort_values(by='Correlation', ascending=False)\n",
    "\n",
    "    correlation_tables_per_class[class_label] = class_corr_table\n",
    "    print(f\"\\nCorrelation Table (Class {class_label}):\\n\", class_corr_table)\n",
    "\n",
    "    # Display the pairs of features with a correlation of 1\n",
    "    perfect_correlations = correlation_table[correlation_table['Correlation'] == 1]\n",
    "    print(perfect_correlations)\n",
    "\n",
    "# Identify Most Correlating Features\n",
    "# Find most correlating features overall (you can adjust the threshold as per your requirement)\n",
    "overall_threshold = 0.8\n",
    "most_correlating_overall = correlation_table[correlation_table['Correlation'] > overall_threshold]\n",
    "\n",
    "# Find most correlating features per class (you can adjust the threshold as per your requirement)\n",
    "class_threshold = 0.8\n",
    "most_correlating_per_class = {}\n",
    "for class_label, class_corr_table in correlation_tables_per_class.items():\n",
    "    most_correlating = class_corr_table[class_corr_table['Correlation'] > class_threshold]\n",
    "    most_correlating_per_class[class_label] = most_correlating\n",
    "\n",
    "# Form two Data Sets with Progressively Fewer Features\n",
    "# Choose features that are most correlated overall and per class\n",
    "selected_features_overall = set(most_correlating_overall['Feature 1']).union(set(most_correlating_overall['Feature 2']))\n",
    "selected_features_per_class = set(most_correlating_per_class[0]['Feature 1']).union(set(most_correlating_per_class[0]['Feature 2']))\n",
    "for class_label, most_correlating_features in most_correlating_per_class.items():\n",
    "    selected_features_per_class.intersection_update(set(most_correlating_features['Feature 1']).union(set(most_correlating_features['Feature 2'])))\n",
    "\n",
    "# Form two data sets by selecting progressively fewer features\n",
    "data_set_1 = df.iloc[:, list(selected_features_overall)]\n",
    "data_set_2 = df.iloc[:, list(selected_features_per_class)]\n",
    "\n",
    "# Print the number of features in each data set\n",
    "print(\"\\nNumber of features in data_set_1:\", len(selected_features_overall))\n",
    "print(\"Number of features in data_set_2:\", len(selected_features_per_class))"
   ]
  },
  {
   "cell_type": "code",
   "execution_count": 36,
   "metadata": {
    "colab": {
     "base_uri": "https://localhost:8080/",
     "height": 1000
    },
    "id": "EgadOgtumwC2",
    "outputId": "7272dd27-5c69-4e69-c804-50224199c9bd"
   },
   "outputs": [
    {
     "name": "stdout",
     "output_type": "stream",
     "text": [
      "Evaluation for data_set_1:\n",
      "Accuracy: 0.6829268292682927\n",
      "Confusion Matrix:\n",
      "\n"
     ]
    },
    {
     "data": {
      "image/png": "[encoded data removed]",
      "text/plain": [
       "<Figure size 800x600 with 2 Axes>"
      ]
     },
     "metadata": {},
     "output_type": "display_data"
    },
    {
     "name": "stdout",
     "output_type": "stream",
     "text": [
      "Classification Report:\n",
      "               precision    recall  f1-score   support\n",
      "\n",
      "         0.0       1.00      0.60      0.75        15\n",
      "         1.0       0.41      1.00      0.58         9\n",
      "         2.0       1.00      0.59      0.74        17\n",
      "\n",
      "    accuracy                           0.68        41\n",
      "   macro avg       0.80      0.73      0.69        41\n",
      "weighted avg       0.87      0.68      0.71        41\n",
      "\n",
      "\n",
      "Evaluation for data_set_2:\n",
      "Accuracy: 0.24390243902439024\n",
      "Confusion Matrix:\n",
      "\n"
     ]
    },
    {
     "data": {
      "image/png": "[encoded data removed]",
      "text/plain": [
       "<Figure size 800x600 with 2 Axes>"
      ]
     },
     "metadata": {},
     "output_type": "display_data"
    },
    {
     "name": "stdout",
     "output_type": "stream",
     "text": [
      "Classification Report:\n",
      "               precision    recall  f1-score   support\n",
      "\n",
      "         0.0       0.00      0.00      0.00        15\n",
      "         1.0       0.00      0.00      0.00         9\n",
      "         2.0       0.56      0.59      0.57        17\n",
      "\n",
      "    accuracy                           0.24        41\n",
      "   macro avg       0.19      0.20      0.19        41\n",
      "weighted avg       0.23      0.24      0.24        41\n",
      "\n"
     ]
    }
   ],
   "source": [
    "# Split the data into training and testing sets\n",
    "X_train_1, X_test_1, y_train_1, y_test_1 = train_test_split(data_set_1, smiley_noisy_Y, test_size=0.2, random_state=42)\n",
    "X_train_2, X_test_2, y_train_2, y_test_2 = train_test_split(data_set_2, smiley_noisy_Y, test_size=0.2, random_state=42)\n",
    "\n",
    "# Initialize Gaussian Naive Bayes classifiers\n",
    "gnb_1 = GaussianNB()\n",
    "gnb_2 = GaussianNB()\n",
    "\n",
    "# Train the classifiers on the training data\n",
    "gnb_1.fit(X_train_1, y_train_1)\n",
    "gnb_2.fit(X_train_2, y_train_2)\n",
    "\n",
    "# Make predictions on the test data\n",
    "y_pred_1 = gnb_1.predict(X_test_1)\n",
    "y_pred_2 = gnb_2.predict(X_test_2)\n",
    "\n",
    "# Evaluate the classifiers using the old metrics\n",
    "accuracy_1 = accuracy_score(y_test_1, y_pred_1)\n",
    "accuracy_2 = accuracy_score(y_test_2, y_pred_2)\n",
    "\n",
    "conf_matrix_1 = confusion_matrix(y_test_1, y_pred_1)\n",
    "conf_matrix_2 = confusion_matrix(y_test_2, y_pred_2)\n",
    "\n",
    "classification_rep_1 = classification_report(y_test_1, y_pred_1)\n",
    "classification_rep_2 = classification_report(y_test_2, y_pred_2)\n",
    "\n",
    "# Print the evaluation results\n",
    "print(\"Evaluation for data_set_1:\")\n",
    "print(\"Accuracy:\", accuracy_1)\n",
    "print(\"Confusion Matrix:\\n\")\n",
    "plt.figure(figsize=(8, 6))\n",
    "sns.heatmap(conf_matrix_1, annot=True, cmap='Blues', fmt='d')\n",
    "plt.title(\"Confusion Matrix - data_set_1\")\n",
    "plt.xlabel(\"Predicted Labels\")\n",
    "plt.ylabel(\"True Labels\")\n",
    "plt.show()\n",
    "print(\"Classification Report:\\n\", classification_rep_1)\n",
    "\n",
    "print(\"\\nEvaluation for data_set_2:\")\n",
    "print(\"Accuracy:\", accuracy_2)\n",
    "print(\"Confusion Matrix:\\n\")\n",
    "plt.figure(figsize=(8, 6))\n",
    "sns.heatmap(conf_matrix_2, annot=True, cmap='Blues', fmt='d')\n",
    "plt.title(\"Confusion Matrix - data_set_2\")\n",
    "plt.xlabel(\"Predicted Labels\")\n",
    "plt.ylabel(\"True Labels\")\n",
    "plt.show()\n",
    "print(\"Classification Report:\\n\", classification_rep_2)"
   ]
  },
  {
   "cell_type": "markdown",
   "metadata": {
    "id": "l2bONLAMKRIl"
   },
   "source": [
    "**Notes and Observations from Part 1**\n",
    "\n",
    "1. The exploration and visualization of data was crucial as it helped to view sample images from the datasets as well as to view the samples along with their associated labels.\n",
    "\n",
    "2. Additionally, the visualization also helped to understand about the distribution of the target variable. It was seen that the classes were almost balanced, which led to no additional steps of having to balance the classes using libraries such as imblearn having to be implemented.\n",
    "\n",
    "3. Moreover, since the datasets were dealing with image data, steps of missing values removal, outlier removal, etc. did not have to be implemented.\n",
    "\n",
    "4. For the purpose of preprocessing, the images had to be flattened so that they could be used by the Gaussian NB model.\n",
    "\n",
    "5. From the performance of the Gaussian NB classifier, it can be seen that the classifier yields the same accuracy of 66% for both data which is noiseless as well as data which is noisy. This shows that the Gaussian NB classifier is not particularly affected by the presence of noise in the dataset.\n",
    "\n",
    "6. Further, when Gaussian NB was used on the two new datasets which were formed by reducing the number of features based on their correlation, it was seen that the accuracy of the dataset in which features were selected based on the correlation per class was especially low, i.e., 27% and 24% respectively for noiseless and noisy data."
   ]
  },
  {
   "cell_type": "markdown",
   "metadata": {
    "id": "RHY7uACqnBT2"
   },
   "source": [
    "**Part 2**"
   ]
  },
  {
   "cell_type": "markdown",
   "metadata": {
    "id": "j_ySwxvkrXwo"
   },
   "source": [
    "Without Noise"
   ]
  },
  {
   "cell_type": "code",
   "execution_count": 37,
   "metadata": {
    "colab": {
     "base_uri": "https://localhost:8080/",
     "height": 616
    },
    "id": "yycraj2fm2ZJ",
    "outputId": "5bbb9b8c-f0b8-499a-8320-b750631ada53"
   },
   "outputs": [
    {
     "ename": "AttributeError",
     "evalue": "'NoneType' object has no attribute 'split'",
     "output_type": "error",
     "traceback": [
      "\u001b[0;31m---------------------------------------------------------------------------\u001b[0m",
      "\u001b[0;31mAttributeError\u001b[0m                            Traceback (most recent call last)",
      "Cell \u001b[0;32mIn[37], line 16\u001b[0m\n\u001b[1;32m     14\u001b[0m num_clusters \u001b[38;5;241m=\u001b[39m \u001b[38;5;241m3\u001b[39m\n\u001b[1;32m     15\u001b[0m kmeans \u001b[38;5;241m=\u001b[39m KMeans(n_clusters\u001b[38;5;241m=\u001b[39mnum_clusters, random_state\u001b[38;5;241m=\u001b[39m\u001b[38;5;241m42\u001b[39m)\n\u001b[0;32m---> 16\u001b[0m kmeans\u001b[38;5;241m.\u001b[39mfit(X_reduced)\n\u001b[1;32m     18\u001b[0m \u001b[38;5;66;03m# Get the cluster assignments for each data point\u001b[39;00m\n\u001b[1;32m     19\u001b[0m cluster_labels \u001b[38;5;241m=\u001b[39m kmeans\u001b[38;5;241m.\u001b[39mlabels_\n",
      "File \u001b[0;32m~/anaconda3/envs/notebook/lib/python3.11/site-packages/sklearn/cluster/_kmeans.py:1455\u001b[0m, in \u001b[0;36mKMeans.fit\u001b[0;34m(self, X, y, sample_weight)\u001b[0m\n\u001b[1;32m   1453\u001b[0m \u001b[38;5;28;01melse\u001b[39;00m:\n\u001b[1;32m   1454\u001b[0m     kmeans_single \u001b[38;5;241m=\u001b[39m _kmeans_single_lloyd\n\u001b[0;32m-> 1455\u001b[0m     \u001b[38;5;28mself\u001b[39m\u001b[38;5;241m.\u001b[39m_check_mkl_vcomp(X, X\u001b[38;5;241m.\u001b[39mshape[\u001b[38;5;241m0\u001b[39m])\n\u001b[1;32m   1457\u001b[0m best_inertia, best_labels \u001b[38;5;241m=\u001b[39m \u001b[38;5;28;01mNone\u001b[39;00m, \u001b[38;5;28;01mNone\u001b[39;00m\n\u001b[1;32m   1459\u001b[0m \u001b[38;5;28;01mfor\u001b[39;00m i \u001b[38;5;129;01min\u001b[39;00m \u001b[38;5;28mrange\u001b[39m(\u001b[38;5;28mself\u001b[39m\u001b[38;5;241m.\u001b[39m_n_init):\n\u001b[1;32m   1460\u001b[0m     \u001b[38;5;66;03m# Initialize centers\u001b[39;00m\n",
      "File \u001b[0;32m~/anaconda3/envs/notebook/lib/python3.11/site-packages/sklearn/cluster/_kmeans.py:911\u001b[0m, in \u001b[0;36m_BaseKMeans._check_mkl_vcomp\u001b[0;34m(self, X, n_samples)\u001b[0m\n\u001b[1;32m    909\u001b[0m n_active_threads \u001b[38;5;241m=\u001b[39m \u001b[38;5;28mint\u001b[39m(np\u001b[38;5;241m.\u001b[39mceil(n_samples \u001b[38;5;241m/\u001b[39m CHUNK_SIZE))\n\u001b[1;32m    910\u001b[0m \u001b[38;5;28;01mif\u001b[39;00m n_active_threads \u001b[38;5;241m<\u001b[39m \u001b[38;5;28mself\u001b[39m\u001b[38;5;241m.\u001b[39m_n_threads:\n\u001b[0;32m--> 911\u001b[0m     modules \u001b[38;5;241m=\u001b[39m threadpool_info()\n\u001b[1;32m    912\u001b[0m     has_vcomp \u001b[38;5;241m=\u001b[39m \u001b[38;5;124m\"\u001b[39m\u001b[38;5;124mvcomp\u001b[39m\u001b[38;5;124m\"\u001b[39m \u001b[38;5;129;01min\u001b[39;00m [module[\u001b[38;5;124m\"\u001b[39m\u001b[38;5;124mprefix\u001b[39m\u001b[38;5;124m\"\u001b[39m] \u001b[38;5;28;01mfor\u001b[39;00m module \u001b[38;5;129;01min\u001b[39;00m modules]\n\u001b[1;32m    913\u001b[0m     has_mkl \u001b[38;5;241m=\u001b[39m (\u001b[38;5;124m\"\u001b[39m\u001b[38;5;124mmkl\u001b[39m\u001b[38;5;124m\"\u001b[39m, \u001b[38;5;124m\"\u001b[39m\u001b[38;5;124mintel\u001b[39m\u001b[38;5;124m\"\u001b[39m) \u001b[38;5;129;01min\u001b[39;00m [\n\u001b[1;32m    914\u001b[0m         (module[\u001b[38;5;124m\"\u001b[39m\u001b[38;5;124minternal_api\u001b[39m\u001b[38;5;124m\"\u001b[39m], module\u001b[38;5;241m.\u001b[39mget(\u001b[38;5;124m\"\u001b[39m\u001b[38;5;124mthreading_layer\u001b[39m\u001b[38;5;124m\"\u001b[39m, \u001b[38;5;28;01mNone\u001b[39;00m))\n\u001b[1;32m    915\u001b[0m         \u001b[38;5;28;01mfor\u001b[39;00m module \u001b[38;5;129;01min\u001b[39;00m modules\n\u001b[1;32m    916\u001b[0m     ]\n",
      "File \u001b[0;32m~/anaconda3/envs/notebook/lib/python3.11/site-packages/sklearn/utils/fixes.py:150\u001b[0m, in \u001b[0;36mthreadpool_info\u001b[0;34m()\u001b[0m\n\u001b[1;32m    148\u001b[0m     \u001b[38;5;28;01mreturn\u001b[39;00m controller\u001b[38;5;241m.\u001b[39minfo()\n\u001b[1;32m    149\u001b[0m \u001b[38;5;28;01melse\u001b[39;00m:\n\u001b[0;32m--> 150\u001b[0m     \u001b[38;5;28;01mreturn\u001b[39;00m threadpoolctl\u001b[38;5;241m.\u001b[39mthreadpool_info()\n",
      "File \u001b[0;32m~/anaconda3/envs/notebook/lib/python3.11/site-packages/threadpoolctl.py:124\u001b[0m, in \u001b[0;36mthreadpool_info\u001b[0;34m()\u001b[0m\n\u001b[1;32m    107\u001b[0m \u001b[38;5;129m@_format_docstring\u001b[39m(USER_APIS\u001b[38;5;241m=\u001b[39m\u001b[38;5;28mlist\u001b[39m(_ALL_USER_APIS),\n\u001b[1;32m    108\u001b[0m                    INTERNAL_APIS\u001b[38;5;241m=\u001b[39m_ALL_INTERNAL_APIS)\n\u001b[1;32m    109\u001b[0m \u001b[38;5;28;01mdef\u001b[39;00m \u001b[38;5;21mthreadpool_info\u001b[39m():\n\u001b[1;32m    110\u001b[0m \u001b[38;5;250m    \u001b[39m\u001b[38;5;124;03m\"\"\"Return the maximal number of threads for each detected library.\u001b[39;00m\n\u001b[1;32m    111\u001b[0m \n\u001b[1;32m    112\u001b[0m \u001b[38;5;124;03m    Return a list with all the supported modules that have been found. Each\u001b[39;00m\n\u001b[0;32m   (...)\u001b[0m\n\u001b[1;32m    122\u001b[0m \u001b[38;5;124;03m    In addition, each module may contain internal_api specific entries.\u001b[39;00m\n\u001b[1;32m    123\u001b[0m \u001b[38;5;124;03m    \"\"\"\u001b[39;00m\n\u001b[0;32m--> 124\u001b[0m     \u001b[38;5;28;01mreturn\u001b[39;00m _ThreadpoolInfo(user_api\u001b[38;5;241m=\u001b[39m_ALL_USER_APIS)\u001b[38;5;241m.\u001b[39mtodicts()\n",
      "File \u001b[0;32m~/anaconda3/envs/notebook/lib/python3.11/site-packages/threadpoolctl.py:340\u001b[0m, in \u001b[0;36m_ThreadpoolInfo.__init__\u001b[0;34m(self, user_api, prefixes, modules)\u001b[0m\n\u001b[1;32m    337\u001b[0m     \u001b[38;5;28mself\u001b[39m\u001b[38;5;241m.\u001b[39muser_api \u001b[38;5;241m=\u001b[39m [] \u001b[38;5;28;01mif\u001b[39;00m user_api \u001b[38;5;129;01mis\u001b[39;00m \u001b[38;5;28;01mNone\u001b[39;00m \u001b[38;5;28;01melse\u001b[39;00m user_api\n\u001b[1;32m    339\u001b[0m     \u001b[38;5;28mself\u001b[39m\u001b[38;5;241m.\u001b[39mmodules \u001b[38;5;241m=\u001b[39m []\n\u001b[0;32m--> 340\u001b[0m     \u001b[38;5;28mself\u001b[39m\u001b[38;5;241m.\u001b[39m_load_modules()\n\u001b[1;32m    341\u001b[0m     \u001b[38;5;28mself\u001b[39m\u001b[38;5;241m.\u001b[39m_warn_if_incompatible_openmp()\n\u001b[1;32m    342\u001b[0m \u001b[38;5;28;01melse\u001b[39;00m:\n",
      "File \u001b[0;32m~/anaconda3/envs/notebook/lib/python3.11/site-packages/threadpoolctl.py:371\u001b[0m, in \u001b[0;36m_ThreadpoolInfo._load_modules\u001b[0;34m(self)\u001b[0m\n\u001b[1;32m    369\u001b[0m \u001b[38;5;250m\u001b[39m\u001b[38;5;124;03m\"\"\"Loop through loaded libraries and store supported ones\"\"\"\u001b[39;00m\n\u001b[1;32m    370\u001b[0m \u001b[38;5;28;01mif\u001b[39;00m sys\u001b[38;5;241m.\u001b[39mplatform \u001b[38;5;241m==\u001b[39m \u001b[38;5;124m\"\u001b[39m\u001b[38;5;124mdarwin\u001b[39m\u001b[38;5;124m\"\u001b[39m:\n\u001b[0;32m--> 371\u001b[0m     \u001b[38;5;28mself\u001b[39m\u001b[38;5;241m.\u001b[39m_find_modules_with_dyld()\n\u001b[1;32m    372\u001b[0m \u001b[38;5;28;01melif\u001b[39;00m sys\u001b[38;5;241m.\u001b[39mplatform \u001b[38;5;241m==\u001b[39m \u001b[38;5;124m\"\u001b[39m\u001b[38;5;124mwin32\u001b[39m\u001b[38;5;124m\"\u001b[39m:\n\u001b[1;32m    373\u001b[0m     \u001b[38;5;28mself\u001b[39m\u001b[38;5;241m.\u001b[39m_find_modules_with_enum_process_module_ex()\n",
      "File \u001b[0;32m~/anaconda3/envs/notebook/lib/python3.11/site-packages/threadpoolctl.py:428\u001b[0m, in \u001b[0;36m_ThreadpoolInfo._find_modules_with_dyld\u001b[0;34m(self)\u001b[0m\n\u001b[1;32m    425\u001b[0m filepath \u001b[38;5;241m=\u001b[39m filepath\u001b[38;5;241m.\u001b[39mdecode(\u001b[38;5;124m\"\u001b[39m\u001b[38;5;124mutf-8\u001b[39m\u001b[38;5;124m\"\u001b[39m)\n\u001b[1;32m    427\u001b[0m \u001b[38;5;66;03m# Store the module if it is supported and selected\u001b[39;00m\n\u001b[0;32m--> 428\u001b[0m \u001b[38;5;28mself\u001b[39m\u001b[38;5;241m.\u001b[39m_make_module_from_path(filepath)\n",
      "File \u001b[0;32m~/anaconda3/envs/notebook/lib/python3.11/site-packages/threadpoolctl.py:515\u001b[0m, in \u001b[0;36m_ThreadpoolInfo._make_module_from_path\u001b[0;34m(self, filepath)\u001b[0m\n\u001b[1;32m    513\u001b[0m \u001b[38;5;28;01mif\u001b[39;00m prefix \u001b[38;5;129;01min\u001b[39;00m \u001b[38;5;28mself\u001b[39m\u001b[38;5;241m.\u001b[39mprefixes \u001b[38;5;129;01mor\u001b[39;00m user_api \u001b[38;5;129;01min\u001b[39;00m \u001b[38;5;28mself\u001b[39m\u001b[38;5;241m.\u001b[39muser_api:\n\u001b[1;32m    514\u001b[0m     module_class \u001b[38;5;241m=\u001b[39m \u001b[38;5;28mglobals\u001b[39m()[module_class]\n\u001b[0;32m--> 515\u001b[0m     module \u001b[38;5;241m=\u001b[39m module_class(filepath, prefix, user_api, internal_api)\n\u001b[1;32m    516\u001b[0m     \u001b[38;5;28mself\u001b[39m\u001b[38;5;241m.\u001b[39mmodules\u001b[38;5;241m.\u001b[39mappend(module)\n",
      "File \u001b[0;32m~/anaconda3/envs/notebook/lib/python3.11/site-packages/threadpoolctl.py:606\u001b[0m, in \u001b[0;36m_Module.__init__\u001b[0;34m(self, filepath, prefix, user_api, internal_api)\u001b[0m\n\u001b[1;32m    604\u001b[0m \u001b[38;5;28mself\u001b[39m\u001b[38;5;241m.\u001b[39minternal_api \u001b[38;5;241m=\u001b[39m internal_api\n\u001b[1;32m    605\u001b[0m \u001b[38;5;28mself\u001b[39m\u001b[38;5;241m.\u001b[39m_dynlib \u001b[38;5;241m=\u001b[39m ctypes\u001b[38;5;241m.\u001b[39mCDLL(filepath, mode\u001b[38;5;241m=\u001b[39m_RTLD_NOLOAD)\n\u001b[0;32m--> 606\u001b[0m \u001b[38;5;28mself\u001b[39m\u001b[38;5;241m.\u001b[39mversion \u001b[38;5;241m=\u001b[39m \u001b[38;5;28mself\u001b[39m\u001b[38;5;241m.\u001b[39mget_version()\n\u001b[1;32m    607\u001b[0m \u001b[38;5;28mself\u001b[39m\u001b[38;5;241m.\u001b[39mnum_threads \u001b[38;5;241m=\u001b[39m \u001b[38;5;28mself\u001b[39m\u001b[38;5;241m.\u001b[39mget_num_threads()\n\u001b[1;32m    608\u001b[0m \u001b[38;5;28mself\u001b[39m\u001b[38;5;241m.\u001b[39m_get_extra_info()\n",
      "File \u001b[0;32m~/anaconda3/envs/notebook/lib/python3.11/site-packages/threadpoolctl.py:646\u001b[0m, in \u001b[0;36m_OpenBLASModule.get_version\u001b[0;34m(self)\u001b[0m\n\u001b[1;32m    643\u001b[0m get_config \u001b[38;5;241m=\u001b[39m \u001b[38;5;28mgetattr\u001b[39m(\u001b[38;5;28mself\u001b[39m\u001b[38;5;241m.\u001b[39m_dynlib, \u001b[38;5;124m\"\u001b[39m\u001b[38;5;124mopenblas_get_config\u001b[39m\u001b[38;5;124m\"\u001b[39m,\n\u001b[1;32m    644\u001b[0m                      \u001b[38;5;28;01mlambda\u001b[39;00m: \u001b[38;5;28;01mNone\u001b[39;00m)\n\u001b[1;32m    645\u001b[0m get_config\u001b[38;5;241m.\u001b[39mrestype \u001b[38;5;241m=\u001b[39m ctypes\u001b[38;5;241m.\u001b[39mc_char_p\n\u001b[0;32m--> 646\u001b[0m config \u001b[38;5;241m=\u001b[39m get_config()\u001b[38;5;241m.\u001b[39msplit()\n\u001b[1;32m    647\u001b[0m \u001b[38;5;28;01mif\u001b[39;00m config[\u001b[38;5;241m0\u001b[39m] \u001b[38;5;241m==\u001b[39m \u001b[38;5;124mb\u001b[39m\u001b[38;5;124m\"\u001b[39m\u001b[38;5;124mOpenBLAS\u001b[39m\u001b[38;5;124m\"\u001b[39m:\n\u001b[1;32m    648\u001b[0m     \u001b[38;5;28;01mreturn\u001b[39;00m config[\u001b[38;5;241m1\u001b[39m]\u001b[38;5;241m.\u001b[39mdecode(\u001b[38;5;124m\"\u001b[39m\u001b[38;5;124mutf-8\u001b[39m\u001b[38;5;124m\"\u001b[39m)\n",
      "\u001b[0;31mAttributeError\u001b[0m: 'NoneType' object has no attribute 'split'"
     ]
    }
   ],
   "source": [
    "# Flatten the image data to make it two-dimensional\n",
    "num_samples, height, width, num_channels = smiley_X.shape\n",
    "X_flattened = smiley_X.reshape(num_samples, height * width * num_channels)\n",
    "\n",
    "# Convert to pandas DataFrame for easier manipulation\n",
    "df = pd.DataFrame(X_flattened)\n",
    "\n",
    "# Apply PCA for dimensionality reduction (selecting top 10 principal components)\n",
    "num_principal_components = 10\n",
    "pca = PCA(n_components=num_principal_components)\n",
    "X_reduced = pca.fit_transform(df)\n",
    "\n",
    "# Perform K-means clustering with a given number of clusters (replace 'num_clusters' with the desired number)\n",
    "num_clusters = 3\n",
    "kmeans = KMeans(n_clusters=num_clusters, random_state=42)\n",
    "kmeans.fit(X_reduced)\n",
    "\n",
    "# Get the cluster assignments for each data point\n",
    "cluster_labels = kmeans.labels_\n",
    "\n",
    "# Evaluate the clustering using the within-cluster sum of squares (WCSS) metric\n",
    "wcss = kmeans.inertia_\n",
    "\n",
    "# Evaluate the clustering using the silhouette score (optional)\n",
    "silhouette_avg = silhouette_score(X_reduced, cluster_labels)\n",
    "\n",
    "# Print the evaluation results\n",
    "print(\"Number of Clusters:\", num_clusters)\n",
    "print(\"Within-Cluster Sum of Squares (WCSS):\", wcss)\n",
    "print(\"Silhouette Score:\", silhouette_avg)\n",
    "\n",
    "# Visualize the clusters using reduced data (e.g., first two principal components)\n",
    "plt.figure(figsize=(8, 6))\n",
    "plt.scatter(X_reduced[:, 0], X_reduced[:, 1], c=cluster_labels, cmap='viridis')\n",
    "plt.scatter(kmeans.cluster_centers_[:, 0], kmeans.cluster_centers_[:, 1], s=200, c='red', marker='X', label='Centroids')\n",
    "plt.title(\"K-means Clustering\")\n",
    "plt.xlabel(\"Principal Component 1\")\n",
    "plt.ylabel(\"Principal Component 2\")\n",
    "plt.legend()\n",
    "plt.show()"
   ]
  },
  {
   "cell_type": "code",
   "execution_count": null,
   "metadata": {
    "colab": {
     "base_uri": "https://localhost:8080/",
     "height": 616
    },
    "id": "InIXi1W3pGMk",
    "outputId": "3270e951-dbc1-4a75-820b-b22851be0fc5"
   },
   "outputs": [],
   "source": [
    "# Flatten the image data to make it two-dimensional\n",
    "num_samples, height, width, num_channels = smiley_X.shape\n",
    "X_flattened = smiley_X.reshape(num_samples, height * width * num_channels)\n",
    "\n",
    "# Convert to pandas DataFrame for easier manipulation\n",
    "df = pd.DataFrame(X_flattened)\n",
    "\n",
    "# Apply PCA for dimensionality reduction (selecting top 10 principal components)\n",
    "num_principal_components = 10\n",
    "pca = PCA(n_components=num_principal_components)\n",
    "X_reduced = pca.fit_transform(df)\n",
    "\n",
    "# Perform K-means clustering with a given number of clusters (replace 'num_clusters' with the desired number)\n",
    "num_clusters = 5\n",
    "kmeans = KMeans(n_clusters=num_clusters, random_state=42)\n",
    "kmeans.fit(X_reduced)\n",
    "\n",
    "# Get the cluster assignments for each data point\n",
    "cluster_labels = kmeans.labels_\n",
    "\n",
    "# Evaluate the clustering using the within-cluster sum of squares (WCSS) metric\n",
    "wcss = kmeans.inertia_\n",
    "\n",
    "# Evaluate the clustering using the silhouette score (optional)\n",
    "silhouette_avg = silhouette_score(X_reduced, cluster_labels)\n",
    "\n",
    "# Print the evaluation results\n",
    "print(\"Number of Clusters:\", num_clusters)\n",
    "print(\"Within-Cluster Sum of Squares (WCSS):\", wcss)\n",
    "print(\"Silhouette Score:\", silhouette_avg)\n",
    "\n",
    "# Visualize the clusters using reduced data (e.g., first two principal components)\n",
    "plt.figure(figsize=(8, 6))\n",
    "plt.scatter(X_reduced[:, 0], X_reduced[:, 1], c=cluster_labels, cmap='viridis')\n",
    "plt.scatter(kmeans.cluster_centers_[:, 0], kmeans.cluster_centers_[:, 1], s=200, c='red', marker='X', label='Centroids')\n",
    "plt.title(\"K-means Clustering\")\n",
    "plt.xlabel(\"Principal Component 1\")\n",
    "plt.ylabel(\"Principal Component 2\")\n",
    "plt.legend()\n",
    "plt.show()"
   ]
  },
  {
   "cell_type": "code",
   "execution_count": null,
   "metadata": {
    "colab": {
     "base_uri": "https://localhost:8080/",
     "height": 616
    },
    "id": "oHDQdlyJqAK7",
    "outputId": "bed31e31-3fe8-4073-c604-0675d9997ad8"
   },
   "outputs": [],
   "source": [
    "# Flatten the image data to make it two-dimensional\n",
    "num_samples, height, width, num_channels = smiley_X.shape\n",
    "X_flattened = smiley_X.reshape(num_samples, height * width * num_channels)\n",
    "\n",
    "# Convert to pandas DataFrame for easier manipulation\n",
    "df = pd.DataFrame(X_flattened)\n",
    "\n",
    "# Apply PCA for dimensionality reduction (selecting top 10 principal components)\n",
    "num_principal_components = 10\n",
    "pca = PCA(n_components=num_principal_components)\n",
    "X_reduced = pca.fit_transform(df)\n",
    "\n",
    "# Perform K-means clustering with a given number of clusters (replace 'num_clusters' with the desired number)\n",
    "num_clusters = 10\n",
    "kmeans = KMeans(n_clusters=num_clusters, random_state=42)\n",
    "kmeans.fit(X_reduced)\n",
    "\n",
    "# Get the cluster assignments for each data point\n",
    "cluster_labels = kmeans.labels_\n",
    "\n",
    "# Evaluate the clustering using the within-cluster sum of squares (WCSS) metric\n",
    "wcss = kmeans.inertia_\n",
    "\n",
    "# Evaluate the clustering using the silhouette score (optional)\n",
    "silhouette_avg = silhouette_score(X_reduced, cluster_labels)\n",
    "\n",
    "# Print the evaluation results\n",
    "print(\"Number of Clusters:\", num_clusters)\n",
    "print(\"Within-Cluster Sum of Squares (WCSS):\", wcss)\n",
    "print(\"Silhouette Score:\", silhouette_avg)\n",
    "\n",
    "# Visualize the clusters using reduced data (e.g., first two principal components)\n",
    "plt.figure(figsize=(8, 6))\n",
    "plt.scatter(X_reduced[:, 0], X_reduced[:, 1], c=cluster_labels, cmap='viridis')\n",
    "plt.scatter(kmeans.cluster_centers_[:, 0], kmeans.cluster_centers_[:, 1], s=200, c='red', marker='X', label='Centroids')\n",
    "plt.title(\"K-means Clustering\")\n",
    "plt.xlabel(\"Principal Component 1\")\n",
    "plt.ylabel(\"Principal Component 2\")\n",
    "plt.legend()\n",
    "plt.show()"
   ]
  },
  {
   "cell_type": "code",
   "execution_count": null,
   "metadata": {
    "colab": {
     "base_uri": "https://localhost:8080/",
     "height": 616
    },
    "id": "KTfDhSDBqCOC",
    "outputId": "e80ce722-2598-499d-a644-813d5bfe04d3"
   },
   "outputs": [],
   "source": [
    "# Flatten the image data to make it two-dimensional\n",
    "num_samples, height, width, num_channels = smiley_X.shape\n",
    "X_flattened = smiley_X.reshape(num_samples, height * width * num_channels)\n",
    "\n",
    "# Convert to pandas DataFrame for easier manipulation\n",
    "df = pd.DataFrame(X_flattened)\n",
    "\n",
    "# Apply PCA for dimensionality reduction (selecting top 10 principal components)\n",
    "num_principal_components = 10\n",
    "pca = PCA(n_components=num_principal_components)\n",
    "X_reduced = pca.fit_transform(df)\n",
    "\n",
    "# Perform K-means clustering with a given number of clusters (replace 'num_clusters' with the desired number)\n",
    "num_clusters = 20\n",
    "kmeans = KMeans(n_clusters=num_clusters, random_state=42)\n",
    "kmeans.fit(X_reduced)\n",
    "\n",
    "# Get the cluster assignments for each data point\n",
    "cluster_labels = kmeans.labels_\n",
    "\n",
    "# Evaluate the clustering using the within-cluster sum of squares (WCSS) metric\n",
    "wcss = kmeans.inertia_\n",
    "\n",
    "# Evaluate the clustering using the silhouette score (optional)\n",
    "silhouette_avg = silhouette_score(X_reduced, cluster_labels)\n",
    "\n",
    "# Print the evaluation results\n",
    "print(\"Number of Clusters:\", num_clusters)\n",
    "print(\"Within-Cluster Sum of Squares (WCSS):\", wcss)\n",
    "print(\"Silhouette Score:\", silhouette_avg)\n",
    "\n",
    "# Visualize the clusters using reduced data (e.g., first two principal components)\n",
    "plt.figure(figsize=(8, 6))\n",
    "plt.scatter(X_reduced[:, 0], X_reduced[:, 1], c=cluster_labels, cmap='viridis')\n",
    "plt.scatter(kmeans.cluster_centers_[:, 0], kmeans.cluster_centers_[:, 1], s=200, c='red', marker='X', label='Centroids')\n",
    "plt.title(\"K-means Clustering\")\n",
    "plt.xlabel(\"Principal Component 1\")\n",
    "plt.ylabel(\"Principal Component 2\")\n",
    "plt.legend()\n",
    "plt.show()"
   ]
  },
  {
   "cell_type": "markdown",
   "metadata": {
    "id": "wYTQk8ScrcFN"
   },
   "source": [
    "With Noise"
   ]
  },
  {
   "cell_type": "code",
   "execution_count": null,
   "metadata": {
    "colab": {
     "base_uri": "https://localhost:8080/",
     "height": 616
    },
    "id": "0KEhzKZJqEXd",
    "outputId": "136bb768-3494-4f2f-d238-bd1651bf093f"
   },
   "outputs": [],
   "source": [
    "# Flatten the image data to make it two-dimensional\n",
    "num_samples, height, width, num_channels = smiley_noisy_X.shape\n",
    "X_flattened = smiley_noisy_X.reshape(num_samples, height * width * num_channels)\n",
    "\n",
    "# Convert to pandas DataFrame for easier manipulation\n",
    "df = pd.DataFrame(X_flattened)\n",
    "\n",
    "# Apply PCA for dimensionality reduction (selecting top 10 principal components)\n",
    "num_principal_components = 10\n",
    "pca = PCA(n_components=num_principal_components)\n",
    "X_reduced = pca.fit_transform(df)\n",
    "\n",
    "# Perform K-means clustering with a given number of clusters (replace 'num_clusters' with the desired number)\n",
    "num_clusters = 3\n",
    "kmeans = KMeans(n_clusters=num_clusters, random_state=42)\n",
    "kmeans.fit(X_reduced)\n",
    "\n",
    "# Get the cluster assignments for each data point\n",
    "cluster_labels = kmeans.labels_\n",
    "\n",
    "# Evaluate the clustering using the within-cluster sum of squares (WCSS) metric\n",
    "wcss = kmeans.inertia_\n",
    "\n",
    "# Evaluate the clustering using the silhouette score (optional)\n",
    "silhouette_avg = silhouette_score(X_reduced, cluster_labels)\n",
    "\n",
    "# Print the evaluation results\n",
    "print(\"Number of Clusters:\", num_clusters)\n",
    "print(\"Within-Cluster Sum of Squares (WCSS):\", wcss)\n",
    "print(\"Silhouette Score:\", silhouette_avg)\n",
    "\n",
    "# Visualize the clusters using reduced data (e.g., first two principal components)\n",
    "plt.figure(figsize=(8, 6))\n",
    "plt.scatter(X_reduced[:, 0], X_reduced[:, 1], c=cluster_labels, cmap='viridis')\n",
    "plt.scatter(kmeans.cluster_centers_[:, 0], kmeans.cluster_centers_[:, 1], s=200, c='red', marker='X', label='Centroids')\n",
    "plt.title(\"K-means Clustering\")\n",
    "plt.xlabel(\"Principal Component 1\")\n",
    "plt.ylabel(\"Principal Component 2\")\n",
    "plt.legend()\n",
    "plt.show()"
   ]
  },
  {
   "cell_type": "code",
   "execution_count": null,
   "metadata": {
    "colab": {
     "base_uri": "https://localhost:8080/",
     "height": 616
    },
    "id": "cvpU_X6IrlHl",
    "outputId": "3bca3585-1888-4ab0-d36d-feb2a9d6fe6b"
   },
   "outputs": [],
   "source": [
    "# Flatten the image data to make it two-dimensional\n",
    "num_samples, height, width, num_channels = smiley_noisy_X.shape\n",
    "X_flattened = smiley_noisy_X.reshape(num_samples, height * width * num_channels)\n",
    "\n",
    "# Convert to pandas DataFrame for easier manipulation\n",
    "df = pd.DataFrame(X_flattened)\n",
    "\n",
    "# Apply PCA for dimensionality reduction (selecting top 10 principal components)\n",
    "num_principal_components = 10\n",
    "pca = PCA(n_components=num_principal_components)\n",
    "X_reduced = pca.fit_transform(df)\n",
    "\n",
    "# Perform K-means clustering with a given number of clusters (replace 'num_clusters' with the desired number)\n",
    "num_clusters = 5\n",
    "kmeans = KMeans(n_clusters=num_clusters, random_state=42)\n",
    "kmeans.fit(X_reduced)\n",
    "\n",
    "# Get the cluster assignments for each data point\n",
    "cluster_labels = kmeans.labels_\n",
    "\n",
    "# Evaluate the clustering using the within-cluster sum of squares (WCSS) metric\n",
    "wcss = kmeans.inertia_\n",
    "\n",
    "# Evaluate the clustering using the silhouette score (optional)\n",
    "silhouette_avg = silhouette_score(X_reduced, cluster_labels)\n",
    "\n",
    "# Print the evaluation results\n",
    "print(\"Number of Clusters:\", num_clusters)\n",
    "print(\"Within-Cluster Sum of Squares (WCSS):\", wcss)\n",
    "print(\"Silhouette Score:\", silhouette_avg)\n",
    "\n",
    "# Visualize the clusters using reduced data (e.g., first two principal components)\n",
    "plt.figure(figsize=(8, 6))\n",
    "plt.scatter(X_reduced[:, 0], X_reduced[:, 1], c=cluster_labels, cmap='viridis')\n",
    "plt.scatter(kmeans.cluster_centers_[:, 0], kmeans.cluster_centers_[:, 1], s=200, c='red', marker='X', label='Centroids')\n",
    "plt.title(\"K-means Clustering\")\n",
    "plt.xlabel(\"Principal Component 1\")\n",
    "plt.ylabel(\"Principal Component 2\")\n",
    "plt.legend()\n",
    "plt.show()"
   ]
  },
  {
   "cell_type": "code",
   "execution_count": null,
   "metadata": {
    "colab": {
     "base_uri": "https://localhost:8080/",
     "height": 616
    },
    "id": "k_P_uA6qrqrV",
    "outputId": "c5c20622-f3bc-4ea6-cf3b-93a645afef15"
   },
   "outputs": [],
   "source": [
    "# Flatten the image data to make it two-dimensional\n",
    "num_samples, height, width, num_channels = smiley_noisy_X.shape\n",
    "X_flattened = smiley_noisy_X.reshape(num_samples, height * width * num_channels)\n",
    "\n",
    "# Convert to pandas DataFrame for easier manipulation\n",
    "df = pd.DataFrame(X_flattened)\n",
    "\n",
    "# Apply PCA for dimensionality reduction (selecting top 10 principal components)\n",
    "num_principal_components = 10\n",
    "pca = PCA(n_components=num_principal_components)\n",
    "X_reduced = pca.fit_transform(df)\n",
    "\n",
    "# Perform K-means clustering with a given number of clusters\n",
    "num_clusters = 10\n",
    "kmeans = KMeans(n_clusters=num_clusters, random_state=42)\n",
    "kmeans.fit(X_reduced)\n",
    "\n",
    "# Get the cluster assignments for each data point\n",
    "cluster_labels = kmeans.labels_\n",
    "\n",
    "# Evaluate the clustering using the within-cluster sum of squares (WCSS) metric\n",
    "wcss = kmeans.inertia_\n",
    "\n",
    "# Evaluate the clustering using the silhouette score\n",
    "silhouette_avg = silhouette_score(X_reduced, cluster_labels)\n",
    "\n",
    "# Print the evaluation results\n",
    "print(\"Number of Clusters:\", num_clusters)\n",
    "print(\"Within-Cluster Sum of Squares (WCSS):\", wcss)\n",
    "print(\"Silhouette Score:\", silhouette_avg)\n",
    "\n",
    "# Visualize the clusters using reduced data (e.g., first two principal components)\n",
    "plt.figure(figsize=(8, 6))\n",
    "plt.scatter(X_reduced[:, 0], X_reduced[:, 1], c=cluster_labels, cmap='viridis')\n",
    "plt.scatter(kmeans.cluster_centers_[:, 0], kmeans.cluster_centers_[:, 1], s=200, c='red', marker='X', label='Centroids')\n",
    "plt.title(\"K-means Clustering\")\n",
    "plt.xlabel(\"Principal Component 1\")\n",
    "plt.ylabel(\"Principal Component 2\")\n",
    "plt.legend()\n",
    "plt.show()"
   ]
  },
  {
   "cell_type": "code",
   "execution_count": null,
   "metadata": {
    "colab": {
     "base_uri": "https://localhost:8080/",
     "height": 616
    },
    "id": "HKKo_Uljrs2P",
    "outputId": "5844fac5-db92-4eae-c546-f924f9d3a27e"
   },
   "outputs": [],
   "source": [
    "# Flatten the image data to make it two-dimensional\n",
    "num_samples, height, width, num_channels = smiley_noisy_X.shape\n",
    "X_flattened = smiley_noisy_X.reshape(num_samples, height * width * num_channels)\n",
    "\n",
    "# Convert to pandas DataFrame for easier manipulation\n",
    "df = pd.DataFrame(X_flattened)\n",
    "\n",
    "# Apply PCA for dimensionality reduction (selecting top 10 principal components)\n",
    "num_principal_components = 10\n",
    "pca = PCA(n_components=num_principal_components)\n",
    "X_reduced = pca.fit_transform(df)\n",
    "\n",
    "# Perform K-means clustering with a given number of clusters (replace 'num_clusters' with the desired number)\n",
    "num_clusters = 20\n",
    "kmeans = KMeans(n_clusters=num_clusters, random_state=42)\n",
    "kmeans.fit(X_reduced)\n",
    "\n",
    "# Get the cluster assignments for each data point\n",
    "cluster_labels = kmeans.labels_\n",
    "\n",
    "# Evaluate the clustering using the within-cluster sum of squares (WCSS) metric\n",
    "wcss = kmeans.inertia_\n",
    "\n",
    "# Evaluate the clustering using the silhouette score (optional)\n",
    "silhouette_avg = silhouette_score(X_reduced, cluster_labels)\n",
    "\n",
    "# Print the evaluation results\n",
    "print(\"Number of Clusters:\", num_clusters)\n",
    "print(\"Within-Cluster Sum of Squares (WCSS):\", wcss)\n",
    "print(\"Silhouette Score:\", silhouette_avg)\n",
    "\n",
    "# Visualize the clusters using reduced data (e.g., first two principal components)\n",
    "plt.figure(figsize=(8, 6))\n",
    "plt.scatter(X_reduced[:, 0], X_reduced[:, 1], c=cluster_labels, cmap='viridis')\n",
    "plt.scatter(kmeans.cluster_centers_[:, 0], kmeans.cluster_centers_[:, 1], s=200, c='red', marker='X', label='Centroids')\n",
    "plt.title(\"K-means Clustering\")\n",
    "plt.xlabel(\"Principal Component 1\")\n",
    "plt.ylabel(\"Principal Component 2\")\n",
    "plt.legend()\n",
    "plt.show()"
   ]
  },
  {
   "cell_type": "markdown",
   "metadata": {
    "id": "Nt6UwIplr6vr"
   },
   "source": [
    "Additional: Without Noise"
   ]
  },
  {
   "cell_type": "code",
   "execution_count": null,
   "metadata": {
    "colab": {
     "base_uri": "https://localhost:8080/",
     "height": 459
    },
    "id": "hVuWJswlrvq6",
    "outputId": "a361639a-bc07-4010-9e5a-007d2a54f54c"
   },
   "outputs": [],
   "source": [
    "# Flatten the image data to make it two-dimensional (same as shown in the previous responses)\n",
    "num_samples, height, width, num_channels = smiley_X.shape\n",
    "X_flattened = smiley_X.reshape(num_samples, height * width * num_channels)\n",
    "\n",
    "# Convert to pandas DataFrame for easier manipulation\n",
    "df = pd.DataFrame(X_flattened)\n",
    "\n",
    "# Apply PCA for dimensionality reduction (selecting top 10 principal components)\n",
    "num_principal_components = 10\n",
    "pca = PCA(n_components=num_principal_components)\n",
    "X_reduced = pca.fit_transform(df)\n",
    "\n",
    "# Initialize clustering algorithms\n",
    "num_clusters = 3\n",
    "kmeans = KMeans(n_clusters=num_clusters, random_state=42)\n",
    "gmm = GaussianMixture(n_components=num_clusters, random_state=42)\n",
    "hierarchical = AgglomerativeClustering(n_clusters=num_clusters)\n",
    "\n",
    "# Fit the clustering algorithms to the data\n",
    "kmeans_labels = kmeans.fit_predict(X_reduced)\n",
    "gmm_labels = gmm.fit_predict(X_reduced)\n",
    "hierarchical_labels = hierarchical.fit_predict(X_reduced)\n",
    "\n",
    "# Evaluate clustering performance using silhouette score\n",
    "kmeans_score = silhouette_score(X_reduced, kmeans_labels)\n",
    "gmm_score = silhouette_score(X_reduced, gmm_labels)\n",
    "hierarchical_score = silhouette_score(X_reduced, hierarchical_labels)\n",
    "\n",
    "# Print the silhouette scores\n",
    "print(\"K-means Silhouette Score:\", kmeans_score)\n",
    "print(\"Gaussian Mixture Model Silhouette Score:\", gmm_score)\n",
    "print(\"Hierarchical Clustering Silhouette Score:\", hierarchical_score)\n",
    "\n",
    "# Visualize the clusters using the reduced data (e.g., first two principal components)\n",
    "plt.figure(figsize=(12, 4))\n",
    "plt.subplot(131)\n",
    "plt.scatter(X_reduced[:, 0], X_reduced[:, 1], c=kmeans_labels, cmap='viridis')\n",
    "plt.title(\"K-means Clustering\")\n",
    "plt.xlabel(\"Principal Component 1\")\n",
    "plt.ylabel(\"Principal Component 2\")\n",
    "\n",
    "plt.subplot(132)\n",
    "plt.scatter(X_reduced[:, 0], X_reduced[:, 1], c=gmm_labels, cmap='viridis')\n",
    "plt.title(\"Gaussian Mixture Model Clustering\")\n",
    "plt.xlabel(\"Principal Component 1\")\n",
    "plt.ylabel(\"Principal Component 2\")\n",
    "\n",
    "plt.subplot(133)\n",
    "plt.scatter(X_reduced[:, 0], X_reduced[:, 1], c=hierarchical_labels, cmap='viridis')\n",
    "plt.title(\"Hierarchical Clustering\")\n",
    "plt.xlabel(\"Principal Component 1\")\n",
    "plt.ylabel(\"Principal Component 2\")\n",
    "\n",
    "plt.tight_layout()\n",
    "plt.show()"
   ]
  },
  {
   "cell_type": "code",
   "execution_count": null,
   "metadata": {
    "colab": {
     "base_uri": "https://localhost:8080/",
     "height": 459
    },
    "id": "hIauZNUOsUTX",
    "outputId": "c059fce9-df26-40c8-a681-39a6ebe74248"
   },
   "outputs": [],
   "source": [
    "# Flatten the image data to make it two-dimensional (same as shown in the previous responses)\n",
    "num_samples, height, width, num_channels = smiley_X.shape\n",
    "X_flattened = smiley_X.reshape(num_samples, height * width * num_channels)\n",
    "\n",
    "# Convert to pandas DataFrame for easier manipulation\n",
    "df = pd.DataFrame(X_flattened)\n",
    "\n",
    "# Apply PCA for dimensionality reduction (selecting top 10 principal components)\n",
    "num_principal_components = 10\n",
    "pca = PCA(n_components=num_principal_components)\n",
    "X_reduced = pca.fit_transform(df)\n",
    "\n",
    "# Initialize clustering algorithms\n",
    "num_clusters = 5\n",
    "kmeans = KMeans(n_clusters=num_clusters, random_state=42)\n",
    "gmm = GaussianMixture(n_components=num_clusters, random_state=42)\n",
    "hierarchical = AgglomerativeClustering(n_clusters=num_clusters)\n",
    "\n",
    "# Fit the clustering algorithms to the data\n",
    "kmeans_labels = kmeans.fit_predict(X_reduced)\n",
    "gmm_labels = gmm.fit_predict(X_reduced)\n",
    "hierarchical_labels = hierarchical.fit_predict(X_reduced)\n",
    "\n",
    "# Evaluate clustering performance using silhouette score\n",
    "kmeans_score = silhouette_score(X_reduced, kmeans_labels)\n",
    "gmm_score = silhouette_score(X_reduced, gmm_labels)\n",
    "hierarchical_score = silhouette_score(X_reduced, hierarchical_labels)\n",
    "\n",
    "# Print the silhouette scores\n",
    "print(\"K-means Silhouette Score:\", kmeans_score)\n",
    "print(\"Gaussian Mixture Model Silhouette Score:\", gmm_score)\n",
    "print(\"Hierarchical Clustering Silhouette Score:\", hierarchical_score)\n",
    "\n",
    "# Visualize the clusters using the reduced data (e.g., first two principal components)\n",
    "plt.figure(figsize=(12, 4))\n",
    "plt.subplot(131)\n",
    "plt.scatter(X_reduced[:, 0], X_reduced[:, 1], c=kmeans_labels, cmap='viridis')\n",
    "plt.title(\"K-means Clustering\")\n",
    "plt.xlabel(\"Principal Component 1\")\n",
    "plt.ylabel(\"Principal Component 2\")\n",
    "\n",
    "plt.subplot(132)\n",
    "plt.scatter(X_reduced[:, 0], X_reduced[:, 1], c=gmm_labels, cmap='viridis')\n",
    "plt.title(\"Gaussian Mixture Model Clustering\")\n",
    "plt.xlabel(\"Principal Component 1\")\n",
    "plt.ylabel(\"Principal Component 2\")\n",
    "\n",
    "plt.subplot(133)\n",
    "plt.scatter(X_reduced[:, 0], X_reduced[:, 1], c=hierarchical_labels, cmap='viridis')\n",
    "plt.title(\"Hierarchical Clustering\")\n",
    "plt.xlabel(\"Principal Component 1\")\n",
    "plt.ylabel(\"Principal Component 2\")\n",
    "\n",
    "plt.tight_layout()\n",
    "plt.show()"
   ]
  },
  {
   "cell_type": "code",
   "execution_count": null,
   "metadata": {
    "colab": {
     "base_uri": "https://localhost:8080/",
     "height": 459
    },
    "id": "19G8gIDdsXSR",
    "outputId": "a0c7cafd-eae7-448e-ca84-601850c2e74b"
   },
   "outputs": [],
   "source": [
    "# Flatten the image data to make it two-dimensional (same as shown in the previous responses)\n",
    "num_samples, height, width, num_channels = smiley_X.shape\n",
    "X_flattened = smiley_X.reshape(num_samples, height * width * num_channels)\n",
    "\n",
    "# Convert to pandas DataFrame for easier manipulation\n",
    "df = pd.DataFrame(X_flattened)\n",
    "\n",
    "# Apply PCA for dimensionality reduction (selecting top 10 principal components)\n",
    "num_principal_components = 10\n",
    "pca = PCA(n_components=num_principal_components)\n",
    "X_reduced = pca.fit_transform(df)\n",
    "\n",
    "# Initialize clustering algorithms\n",
    "num_clusters = 10\n",
    "kmeans = KMeans(n_clusters=num_clusters, random_state=42)\n",
    "gmm = GaussianMixture(n_components=num_clusters, random_state=42)\n",
    "hierarchical = AgglomerativeClustering(n_clusters=num_clusters)\n",
    "\n",
    "# Fit the clustering algorithms to the data\n",
    "kmeans_labels = kmeans.fit_predict(X_reduced)\n",
    "gmm_labels = gmm.fit_predict(X_reduced)\n",
    "hierarchical_labels = hierarchical.fit_predict(X_reduced)\n",
    "\n",
    "# Evaluate clustering performance using silhouette score\n",
    "kmeans_score = silhouette_score(X_reduced, kmeans_labels)\n",
    "gmm_score = silhouette_score(X_reduced, gmm_labels)\n",
    "hierarchical_score = silhouette_score(X_reduced, hierarchical_labels)\n",
    "\n",
    "# Print the silhouette scores\n",
    "print(\"K-means Silhouette Score:\", kmeans_score)\n",
    "print(\"Gaussian Mixture Model Silhouette Score:\", gmm_score)\n",
    "print(\"Hierarchical Clustering Silhouette Score:\", hierarchical_score)\n",
    "\n",
    "# Visualize the clusters using the reduced data (e.g., first two principal components)\n",
    "plt.figure(figsize=(12, 4))\n",
    "plt.subplot(131)\n",
    "plt.scatter(X_reduced[:, 0], X_reduced[:, 1], c=kmeans_labels, cmap='viridis')\n",
    "plt.title(\"K-means Clustering\")\n",
    "plt.xlabel(\"Principal Component 1\")\n",
    "plt.ylabel(\"Principal Component 2\")\n",
    "\n",
    "plt.subplot(132)\n",
    "plt.scatter(X_reduced[:, 0], X_reduced[:, 1], c=gmm_labels, cmap='viridis')\n",
    "plt.title(\"Gaussian Mixture Model Clustering\")\n",
    "plt.xlabel(\"Principal Component 1\")\n",
    "plt.ylabel(\"Principal Component 2\")\n",
    "\n",
    "plt.subplot(133)\n",
    "plt.scatter(X_reduced[:, 0], X_reduced[:, 1], c=hierarchical_labels, cmap='viridis')\n",
    "plt.title(\"Hierarchical Clustering\")\n",
    "plt.xlabel(\"Principal Component 1\")\n",
    "plt.ylabel(\"Principal Component 2\")\n",
    "\n",
    "plt.tight_layout()\n",
    "plt.show()"
   ]
  },
  {
   "cell_type": "code",
   "execution_count": null,
   "metadata": {
    "colab": {
     "base_uri": "https://localhost:8080/",
     "height": 459
    },
    "id": "nF8TQLV2saYK",
    "outputId": "628991f0-f6d2-4890-d875-1771afc3900a"
   },
   "outputs": [],
   "source": [
    "# Flatten the image data to make it two-dimensional (same as shown in the previous responses)\n",
    "num_samples, height, width, num_channels = smiley_X.shape\n",
    "X_flattened = smiley_X.reshape(num_samples, height * width * num_channels)\n",
    "\n",
    "# Convert to pandas DataFrame for easier manipulation\n",
    "df = pd.DataFrame(X_flattened)\n",
    "\n",
    "# Apply PCA for dimensionality reduction (selecting top 10 principal components)\n",
    "num_principal_components = 10\n",
    "pca = PCA(n_components=num_principal_components)\n",
    "X_reduced = pca.fit_transform(df)\n",
    "\n",
    "# Initialize clustering algorithms\n",
    "num_clusters = 20\n",
    "kmeans = KMeans(n_clusters=num_clusters, random_state=42)\n",
    "gmm = GaussianMixture(n_components=num_clusters, random_state=42)\n",
    "hierarchical = AgglomerativeClustering(n_clusters=num_clusters)\n",
    "\n",
    "# Fit the clustering algorithms to the data\n",
    "kmeans_labels = kmeans.fit_predict(X_reduced)\n",
    "gmm_labels = gmm.fit_predict(X_reduced)\n",
    "hierarchical_labels = hierarchical.fit_predict(X_reduced)\n",
    "\n",
    "# Evaluate clustering performance using silhouette score\n",
    "kmeans_score = silhouette_score(X_reduced, kmeans_labels)\n",
    "gmm_score = silhouette_score(X_reduced, gmm_labels)\n",
    "hierarchical_score = silhouette_score(X_reduced, hierarchical_labels)\n",
    "\n",
    "# Print the silhouette scores\n",
    "print(\"K-means Silhouette Score:\", kmeans_score)\n",
    "print(\"Gaussian Mixture Model Silhouette Score:\", gmm_score)\n",
    "print(\"Hierarchical Clustering Silhouette Score:\", hierarchical_score)\n",
    "\n",
    "# Visualize the clusters using the reduced data (e.g., first two principal components)\n",
    "plt.figure(figsize=(12, 4))\n",
    "plt.subplot(131)\n",
    "plt.scatter(X_reduced[:, 0], X_reduced[:, 1], c=kmeans_labels, cmap='viridis')\n",
    "plt.title(\"K-means Clustering\")\n",
    "plt.xlabel(\"Principal Component 1\")\n",
    "plt.ylabel(\"Principal Component 2\")\n",
    "\n",
    "plt.subplot(132)\n",
    "plt.scatter(X_reduced[:, 0], X_reduced[:, 1], c=gmm_labels, cmap='viridis')\n",
    "plt.title(\"Gaussian Mixture Model Clustering\")\n",
    "plt.xlabel(\"Principal Component 1\")\n",
    "plt.ylabel(\"Principal Component 2\")\n",
    "\n",
    "plt.subplot(133)\n",
    "plt.scatter(X_reduced[:, 0], X_reduced[:, 1], c=hierarchical_labels, cmap='viridis')\n",
    "plt.title(\"Hierarchical Clustering\")\n",
    "plt.xlabel(\"Principal Component 1\")\n",
    "plt.ylabel(\"Principal Component 2\")\n",
    "\n",
    "plt.tight_layout()\n",
    "plt.show()"
   ]
  },
  {
   "cell_type": "code",
   "execution_count": null,
   "metadata": {
    "colab": {
     "base_uri": "https://localhost:8080/",
     "height": 472
    },
    "id": "91xZr5JnuOsm",
    "outputId": "d887d5c4-4ff4-47ec-fff1-f4177a87796f"
   },
   "outputs": [],
   "source": [
    "# Flatten the image data to make it two-dimensional (same as shown in the previous responses)\n",
    "num_samples, height, width, num_channels = smiley_X.shape\n",
    "X_flattened = smiley_X.reshape(num_samples, height * width * num_channels)\n",
    "\n",
    "# Convert to pandas DataFrame for easier manipulation\n",
    "df = pd.DataFrame(X_flattened)\n",
    "\n",
    "# Apply PCA for dimensionality reduction (selecting top 10 principal components)\n",
    "num_principal_components = 10\n",
    "pca = PCA(n_components=num_principal_components)\n",
    "X_reduced = pca.fit_transform(df)\n",
    "\n",
    "# Perform K-means clustering with different number of clusters and calculate WCSS for each\n",
    "wcss = []\n",
    "max_clusters = 10  # Set the maximum number of clusters to try\n",
    "for k in range(1, max_clusters + 1):\n",
    "    kmeans = KMeans(n_clusters=k, random_state=42)\n",
    "    kmeans.fit(X_reduced)\n",
    "    wcss.append(kmeans.inertia_)\n",
    "\n",
    "# Plot the elbow curve\n",
    "plt.plot(range(1, max_clusters + 1), wcss, marker='o')\n",
    "plt.title('Elbow Method for Optimal k')\n",
    "plt.xlabel('Number of Clusters (k)')\n",
    "plt.ylabel('Within-Cluster Sum of Squares (WCSS)')\n",
    "plt.xticks(range(1, max_clusters + 1))\n",
    "plt.grid(True)\n",
    "plt.show()"
   ]
  },
  {
   "cell_type": "code",
   "execution_count": null,
   "metadata": {
    "colab": {
     "base_uri": "https://localhost:8080/",
     "height": 459
    },
    "id": "oGh_9W3nudB0",
    "outputId": "6e8903ea-3b4c-4a2b-eae3-6129f9e5299c"
   },
   "outputs": [],
   "source": [
    "# Flatten the image data to make it two-dimensional (same as shown in the previous responses)\n",
    "num_samples, height, width, num_channels = smiley_X.shape\n",
    "X_flattened = smiley_X.reshape(num_samples, height * width * num_channels)\n",
    "\n",
    "# Convert to pandas DataFrame for easier manipulation\n",
    "df = pd.DataFrame(X_flattened)\n",
    "\n",
    "# Apply PCA for dimensionality reduction (selecting top 10 principal components)\n",
    "num_principal_components = 10\n",
    "pca = PCA(n_components=num_principal_components)\n",
    "X_reduced = pca.fit_transform(df)\n",
    "\n",
    "# Initialize clustering algorithms\n",
    "num_clusters = 4\n",
    "kmeans = KMeans(n_clusters=num_clusters, random_state=42)\n",
    "gmm = GaussianMixture(n_components=num_clusters, random_state=42)\n",
    "hierarchical = AgglomerativeClustering(n_clusters=num_clusters)\n",
    "\n",
    "# Fit the clustering algorithms to the data\n",
    "kmeans_labels = kmeans.fit_predict(X_reduced)\n",
    "gmm_labels = gmm.fit_predict(X_reduced)\n",
    "hierarchical_labels = hierarchical.fit_predict(X_reduced)\n",
    "\n",
    "# Evaluate clustering performance using silhouette score\n",
    "kmeans_score = silhouette_score(X_reduced, kmeans_labels)\n",
    "gmm_score = silhouette_score(X_reduced, gmm_labels)\n",
    "hierarchical_score = silhouette_score(X_reduced, hierarchical_labels)\n",
    "\n",
    "# Print the silhouette scores\n",
    "print(\"K-means Silhouette Score:\", kmeans_score)\n",
    "print(\"Gaussian Mixture Model Silhouette Score:\", gmm_score)\n",
    "print(\"Hierarchical Clustering Silhouette Score:\", hierarchical_score)\n",
    "\n",
    "# Visualize the clusters using the reduced data (e.g., first two principal components)\n",
    "plt.figure(figsize=(12, 4))\n",
    "plt.subplot(131)\n",
    "plt.scatter(X_reduced[:, 0], X_reduced[:, 1], c=kmeans_labels, cmap='viridis')\n",
    "plt.title(\"K-means Clustering\")\n",
    "plt.xlabel(\"Principal Component 1\")\n",
    "plt.ylabel(\"Principal Component 2\")\n",
    "\n",
    "plt.subplot(132)\n",
    "plt.scatter(X_reduced[:, 0], X_reduced[:, 1], c=gmm_labels, cmap='viridis')\n",
    "plt.title(\"Gaussian Mixture Model Clustering\")\n",
    "plt.xlabel(\"Principal Component 1\")\n",
    "plt.ylabel(\"Principal Component 2\")\n",
    "\n",
    "plt.subplot(133)\n",
    "plt.scatter(X_reduced[:, 0], X_reduced[:, 1], c=hierarchical_labels, cmap='viridis')\n",
    "plt.title(\"Hierarchical Clustering\")\n",
    "plt.xlabel(\"Principal Component 1\")\n",
    "plt.ylabel(\"Principal Component 2\")\n",
    "\n",
    "plt.tight_layout()\n",
    "plt.show()"
   ]
  },
  {
   "cell_type": "markdown",
   "metadata": {
    "id": "YRLeCNBAsh-n"
   },
   "source": [
    "Additional: With Noise"
   ]
  },
  {
   "cell_type": "code",
   "execution_count": null,
   "metadata": {
    "colab": {
     "base_uri": "https://localhost:8080/",
     "height": 459
    },
    "id": "wzFgF7w5sc47",
    "outputId": "8af63c02-a669-4218-e24f-89780352cff4"
   },
   "outputs": [],
   "source": [
    "# Flatten the image data to make it two-dimensional (same as shown in the previous responses)\n",
    "num_samples, height, width, num_channels = smiley_noisy_X.shape\n",
    "X_flattened = smiley_noisy_X.reshape(num_samples, height * width * num_channels)\n",
    "\n",
    "# Convert to pandas DataFrame for easier manipulation\n",
    "df = pd.DataFrame(X_flattened)\n",
    "\n",
    "# Apply PCA for dimensionality reduction (selecting top 10 principal components)\n",
    "num_principal_components = 10\n",
    "pca = PCA(n_components=num_principal_components)\n",
    "X_reduced = pca.fit_transform(df)\n",
    "\n",
    "# Initialize clustering algorithms\n",
    "num_clusters = 3\n",
    "kmeans = KMeans(n_clusters=num_clusters, random_state=42)\n",
    "gmm = GaussianMixture(n_components=num_clusters, random_state=42)\n",
    "hierarchical = AgglomerativeClustering(n_clusters=num_clusters)\n",
    "\n",
    "# Fit the clustering algorithms to the data\n",
    "kmeans_labels = kmeans.fit_predict(X_reduced)\n",
    "gmm_labels = gmm.fit_predict(X_reduced)\n",
    "hierarchical_labels = hierarchical.fit_predict(X_reduced)\n",
    "\n",
    "# Evaluate clustering performance using silhouette score\n",
    "kmeans_score = silhouette_score(X_reduced, kmeans_labels)\n",
    "gmm_score = silhouette_score(X_reduced, gmm_labels)\n",
    "hierarchical_score = silhouette_score(X_reduced, hierarchical_labels)\n",
    "\n",
    "# Print the silhouette scores\n",
    "print(\"K-means Silhouette Score:\", kmeans_score)\n",
    "print(\"Gaussian Mixture Model Silhouette Score:\", gmm_score)\n",
    "print(\"Hierarchical Clustering Silhouette Score:\", hierarchical_score)\n",
    "\n",
    "# Visualize the clusters using the reduced data (e.g., first two principal components)\n",
    "plt.figure(figsize=(12, 4))\n",
    "plt.subplot(131)\n",
    "plt.scatter(X_reduced[:, 0], X_reduced[:, 1], c=kmeans_labels, cmap='viridis')\n",
    "plt.title(\"K-means Clustering\")\n",
    "plt.xlabel(\"Principal Component 1\")\n",
    "plt.ylabel(\"Principal Component 2\")\n",
    "\n",
    "plt.subplot(132)\n",
    "plt.scatter(X_reduced[:, 0], X_reduced[:, 1], c=gmm_labels, cmap='viridis')\n",
    "plt.title(\"Gaussian Mixture Model Clustering\")\n",
    "plt.xlabel(\"Principal Component 1\")\n",
    "plt.ylabel(\"Principal Component 2\")\n",
    "\n",
    "plt.subplot(133)\n",
    "plt.scatter(X_reduced[:, 0], X_reduced[:, 1], c=hierarchical_labels, cmap='viridis')\n",
    "plt.title(\"Hierarchical Clustering\")\n",
    "plt.xlabel(\"Principal Component 1\")\n",
    "plt.ylabel(\"Principal Component 2\")\n",
    "\n",
    "plt.tight_layout()\n",
    "plt.show()"
   ]
  },
  {
   "cell_type": "code",
   "execution_count": null,
   "metadata": {
    "colab": {
     "base_uri": "https://localhost:8080/",
     "height": 459
    },
    "id": "JfXqHuWEsp-M",
    "outputId": "1c7466b4-fb1b-4073-f2b6-9c6896f70609"
   },
   "outputs": [],
   "source": [
    "# Flatten the image data to make it two-dimensional (same as shown in the previous responses)\n",
    "num_samples, height, width, num_channels = smiley_noisy_X.shape\n",
    "X_flattened = smiley_noisy_X.reshape(num_samples, height * width * num_channels)\n",
    "\n",
    "# Convert to pandas DataFrame for easier manipulation\n",
    "df = pd.DataFrame(X_flattened)\n",
    "\n",
    "# Apply PCA for dimensionality reduction (selecting top 10 principal components)\n",
    "num_principal_components = 10\n",
    "pca = PCA(n_components=num_principal_components)\n",
    "X_reduced = pca.fit_transform(df)\n",
    "\n",
    "# Initialize clustering algorithms\n",
    "num_clusters = 5\n",
    "kmeans = KMeans(n_clusters=num_clusters, random_state=42)\n",
    "gmm = GaussianMixture(n_components=num_clusters, random_state=42)\n",
    "hierarchical = AgglomerativeClustering(n_clusters=num_clusters)\n",
    "\n",
    "# Fit the clustering algorithms to the data\n",
    "kmeans_labels = kmeans.fit_predict(X_reduced)\n",
    "gmm_labels = gmm.fit_predict(X_reduced)\n",
    "hierarchical_labels = hierarchical.fit_predict(X_reduced)\n",
    "\n",
    "# Evaluate clustering performance using silhouette score\n",
    "kmeans_score = silhouette_score(X_reduced, kmeans_labels)\n",
    "gmm_score = silhouette_score(X_reduced, gmm_labels)\n",
    "hierarchical_score = silhouette_score(X_reduced, hierarchical_labels)\n",
    "\n",
    "# Print the silhouette scores\n",
    "print(\"K-means Silhouette Score:\", kmeans_score)\n",
    "print(\"Gaussian Mixture Model Silhouette Score:\", gmm_score)\n",
    "print(\"Hierarchical Clustering Silhouette Score:\", hierarchical_score)\n",
    "\n",
    "# Visualize the clusters using the reduced data (e.g., first two principal components)\n",
    "plt.figure(figsize=(12, 4))\n",
    "plt.subplot(131)\n",
    "plt.scatter(X_reduced[:, 0], X_reduced[:, 1], c=kmeans_labels, cmap='viridis')\n",
    "plt.title(\"K-means Clustering\")\n",
    "plt.xlabel(\"Principal Component 1\")\n",
    "plt.ylabel(\"Principal Component 2\")\n",
    "\n",
    "plt.subplot(132)\n",
    "plt.scatter(X_reduced[:, 0], X_reduced[:, 1], c=gmm_labels, cmap='viridis')\n",
    "plt.title(\"Gaussian Mixture Model Clustering\")\n",
    "plt.xlabel(\"Principal Component 1\")\n",
    "plt.ylabel(\"Principal Component 2\")\n",
    "\n",
    "plt.subplot(133)\n",
    "plt.scatter(X_reduced[:, 0], X_reduced[:, 1], c=hierarchical_labels, cmap='viridis')\n",
    "plt.title(\"Hierarchical Clustering\")\n",
    "plt.xlabel(\"Principal Component 1\")\n",
    "plt.ylabel(\"Principal Component 2\")\n",
    "\n",
    "plt.tight_layout()\n",
    "plt.show()"
   ]
  },
  {
   "cell_type": "code",
   "execution_count": null,
   "metadata": {
    "colab": {
     "base_uri": "https://localhost:8080/",
     "height": 459
    },
    "id": "pDFi7QMnsrDP",
    "outputId": "38bf70f8-6b4d-4967-ad71-311c063f6d56"
   },
   "outputs": [],
   "source": [
    "# Flatten the image data to make it two-dimensional (same as shown in the previous responses)\n",
    "num_samples, height, width, num_channels = smiley_noisy_X.shape\n",
    "X_flattened = smiley_noisy_X.reshape(num_samples, height * width * num_channels)\n",
    "\n",
    "# Convert to pandas DataFrame for easier manipulation\n",
    "df = pd.DataFrame(X_flattened)\n",
    "\n",
    "# Apply PCA for dimensionality reduction (selecting top 10 principal components)\n",
    "num_principal_components = 10\n",
    "pca = PCA(n_components=num_principal_components)\n",
    "X_reduced = pca.fit_transform(df)\n",
    "\n",
    "# Initialize clustering algorithms\n",
    "num_clusters = 10\n",
    "kmeans = KMeans(n_clusters=num_clusters, random_state=42)\n",
    "gmm = GaussianMixture(n_components=num_clusters, random_state=42)\n",
    "hierarchical = AgglomerativeClustering(n_clusters=num_clusters)\n",
    "\n",
    "# Fit the clustering algorithms to the data\n",
    "kmeans_labels = kmeans.fit_predict(X_reduced)\n",
    "gmm_labels = gmm.fit_predict(X_reduced)\n",
    "hierarchical_labels = hierarchical.fit_predict(X_reduced)\n",
    "\n",
    "# Evaluate clustering performance using silhouette score\n",
    "kmeans_score = silhouette_score(X_reduced, kmeans_labels)\n",
    "gmm_score = silhouette_score(X_reduced, gmm_labels)\n",
    "hierarchical_score = silhouette_score(X_reduced, hierarchical_labels)\n",
    "\n",
    "# Print the silhouette scores\n",
    "print(\"K-means Silhouette Score:\", kmeans_score)\n",
    "print(\"Gaussian Mixture Model Silhouette Score:\", gmm_score)\n",
    "print(\"Hierarchical Clustering Silhouette Score:\", hierarchical_score)\n",
    "\n",
    "# Visualize the clusters using the reduced data (e.g., first two principal components)\n",
    "plt.figure(figsize=(12, 4))\n",
    "plt.subplot(131)\n",
    "plt.scatter(X_reduced[:, 0], X_reduced[:, 1], c=kmeans_labels, cmap='viridis')\n",
    "plt.title(\"K-means Clustering\")\n",
    "plt.xlabel(\"Principal Component 1\")\n",
    "plt.ylabel(\"Principal Component 2\")\n",
    "\n",
    "plt.subplot(132)\n",
    "plt.scatter(X_reduced[:, 0], X_reduced[:, 1], c=gmm_labels, cmap='viridis')\n",
    "plt.title(\"Gaussian Mixture Model Clustering\")\n",
    "plt.xlabel(\"Principal Component 1\")\n",
    "plt.ylabel(\"Principal Component 2\")\n",
    "\n",
    "plt.subplot(133)\n",
    "plt.scatter(X_reduced[:, 0], X_reduced[:, 1], c=hierarchical_labels, cmap='viridis')\n",
    "plt.title(\"Hierarchical Clustering\")\n",
    "plt.xlabel(\"Principal Component 1\")\n",
    "plt.ylabel(\"Principal Component 2\")\n",
    "\n",
    "plt.tight_layout()\n",
    "plt.show()"
   ]
  },
  {
   "cell_type": "code",
   "execution_count": null,
   "metadata": {
    "colab": {
     "base_uri": "https://localhost:8080/",
     "height": 459
    },
    "id": "Ezcnq1Desu4c",
    "outputId": "1fcd507c-4d50-42b2-b9e7-df8dec34b055"
   },
   "outputs": [],
   "source": [
    "# Flatten the image data to make it two-dimensional (same as shown in the previous responses)\n",
    "num_samples, height, width, num_channels = smiley_noisy_X.shape\n",
    "X_flattened = smiley_noisy_X.reshape(num_samples, height * width * num_channels)\n",
    "\n",
    "# Convert to pandas DataFrame for easier manipulation\n",
    "df = pd.DataFrame(X_flattened)\n",
    "\n",
    "# Apply PCA for dimensionality reduction (selecting top 10 principal components)\n",
    "num_principal_components = 10\n",
    "pca = PCA(n_components=num_principal_components)\n",
    "X_reduced = pca.fit_transform(df)\n",
    "\n",
    "# Initialize clustering algorithms\n",
    "num_clusters = 20\n",
    "kmeans = KMeans(n_clusters=num_clusters, random_state=42)\n",
    "gmm = GaussianMixture(n_components=num_clusters, random_state=42)\n",
    "hierarchical = AgglomerativeClustering(n_clusters=num_clusters)\n",
    "\n",
    "# Fit the clustering algorithms to the data\n",
    "kmeans_labels = kmeans.fit_predict(X_reduced)\n",
    "gmm_labels = gmm.fit_predict(X_reduced)\n",
    "hierarchical_labels = hierarchical.fit_predict(X_reduced)\n",
    "\n",
    "# Evaluate clustering performance using silhouette score\n",
    "kmeans_score = silhouette_score(X_reduced, kmeans_labels)\n",
    "gmm_score = silhouette_score(X_reduced, gmm_labels)\n",
    "hierarchical_score = silhouette_score(X_reduced, hierarchical_labels)\n",
    "\n",
    "# Print the silhouette scores\n",
    "print(\"K-means Silhouette Score:\", kmeans_score)\n",
    "print(\"Gaussian Mixture Model Silhouette Score:\", gmm_score)\n",
    "print(\"Hierarchical Clustering Silhouette Score:\", hierarchical_score)\n",
    "\n",
    "# Visualize the clusters using the reduced data (e.g., first two principal components)\n",
    "plt.figure(figsize=(12, 4))\n",
    "plt.subplot(131)\n",
    "plt.scatter(X_reduced[:, 0], X_reduced[:, 1], c=kmeans_labels, cmap='viridis')\n",
    "plt.title(\"K-means Clustering\")\n",
    "plt.xlabel(\"Principal Component 1\")\n",
    "plt.ylabel(\"Principal Component 2\")\n",
    "\n",
    "plt.subplot(132)\n",
    "plt.scatter(X_reduced[:, 0], X_reduced[:, 1], c=gmm_labels, cmap='viridis')\n",
    "plt.title(\"Gaussian Mixture Model Clustering\")\n",
    "plt.xlabel(\"Principal Component 1\")\n",
    "plt.ylabel(\"Principal Component 2\")\n",
    "\n",
    "plt.subplot(133)\n",
    "plt.scatter(X_reduced[:, 0], X_reduced[:, 1], c=hierarchical_labels, cmap='viridis')\n",
    "plt.title(\"Hierarchical Clustering\")\n",
    "plt.xlabel(\"Principal Component 1\")\n",
    "plt.ylabel(\"Principal Component 2\")\n",
    "\n",
    "plt.tight_layout()\n",
    "plt.show()"
   ]
  },
  {
   "cell_type": "code",
   "execution_count": null,
   "metadata": {
    "colab": {
     "base_uri": "https://localhost:8080/",
     "height": 472
    },
    "id": "5MgA76pVsxAv",
    "outputId": "26444753-b4ed-4ab7-b586-cce91cd3200e"
   },
   "outputs": [],
   "source": [
    "# Flatten the image data to make it two-dimensional (same as shown in the previous responses)\n",
    "num_samples, height, width, num_channels = smiley_noisy_X.shape\n",
    "X_flattened = smiley_noisy_X.reshape(num_samples, height * width * num_channels)\n",
    "\n",
    "# Convert to pandas DataFrame for easier manipulation\n",
    "df = pd.DataFrame(X_flattened)\n",
    "\n",
    "# Apply PCA for dimensionality reduction (selecting top 10 principal components)\n",
    "num_principal_components = 10\n",
    "pca = PCA(n_components=num_principal_components)\n",
    "X_reduced = pca.fit_transform(df)\n",
    "\n",
    "# Perform K-means clustering with different number of clusters and calculate WCSS for each\n",
    "wcss = []\n",
    "max_clusters = 10  # Set the maximum number of clusters to try\n",
    "for k in range(1, max_clusters + 1):\n",
    "    kmeans = KMeans(n_clusters=k, random_state=42)\n",
    "    kmeans.fit(X_reduced)\n",
    "    wcss.append(kmeans.inertia_)\n",
    "\n",
    "# Plot the elbow curve\n",
    "plt.plot(range(1, max_clusters + 1), wcss, marker='o')\n",
    "plt.title('Elbow Method for Optimal k')\n",
    "plt.xlabel('Number of Clusters (k)')\n",
    "plt.ylabel('Within-Cluster Sum of Squares (WCSS)')\n",
    "plt.xticks(range(1, max_clusters + 1))\n",
    "plt.grid(True)\n",
    "plt.show()"
   ]
  },
  {
   "cell_type": "code",
   "execution_count": null,
   "metadata": {
    "colab": {
     "base_uri": "https://localhost:8080/",
     "height": 459
    },
    "id": "uJbN949ouqcQ",
    "outputId": "8f83984d-398d-4834-f37d-6024c7b7b9ae"
   },
   "outputs": [],
   "source": [
    "# Flatten the image data to make it two-dimensional (same as shown in the previous responses)\n",
    "num_samples, height, width, num_channels = smiley_noisy_X.shape\n",
    "X_flattened = smiley_noisy_X.reshape(num_samples, height * width * num_channels)\n",
    "\n",
    "# Convert to pandas DataFrame for easier manipulation\n",
    "df = pd.DataFrame(X_flattened)\n",
    "\n",
    "# Apply PCA for dimensionality reduction (selecting top 10 principal components)\n",
    "num_principal_components = 10\n",
    "pca = PCA(n_components=num_principal_components)\n",
    "X_reduced = pca.fit_transform(df)\n",
    "\n",
    "# Initialize clustering algorithms\n",
    "num_clusters = 4\n",
    "kmeans = KMeans(n_clusters=num_clusters, random_state=42)\n",
    "gmm = GaussianMixture(n_components=num_clusters, random_state=42)\n",
    "hierarchical = AgglomerativeClustering(n_clusters=num_clusters)\n",
    "\n",
    "# Fit the clustering algorithms to the data\n",
    "kmeans_labels = kmeans.fit_predict(X_reduced)\n",
    "gmm_labels = gmm.fit_predict(X_reduced)\n",
    "hierarchical_labels = hierarchical.fit_predict(X_reduced)\n",
    "\n",
    "# Evaluate clustering performance using silhouette score\n",
    "kmeans_score = silhouette_score(X_reduced, kmeans_labels)\n",
    "gmm_score = silhouette_score(X_reduced, gmm_labels)\n",
    "hierarchical_score = silhouette_score(X_reduced, hierarchical_labels)\n",
    "\n",
    "# Print the silhouette scores\n",
    "print(\"K-means Silhouette Score:\", kmeans_score)\n",
    "print(\"Gaussian Mixture Model Silhouette Score:\", gmm_score)\n",
    "print(\"Hierarchical Clustering Silhouette Score:\", hierarchical_score)\n",
    "\n",
    "# Visualize the clusters using the reduced data (e.g., first two principal components)\n",
    "plt.figure(figsize=(12, 4))\n",
    "plt.subplot(131)\n",
    "plt.scatter(X_reduced[:, 0], X_reduced[:, 1], c=kmeans_labels, cmap='viridis')\n",
    "plt.title(\"K-means Clustering\")\n",
    "plt.xlabel(\"Principal Component 1\")\n",
    "plt.ylabel(\"Principal Component 2\")\n",
    "\n",
    "plt.subplot(132)\n",
    "plt.scatter(X_reduced[:, 0], X_reduced[:, 1], c=gmm_labels, cmap='viridis')\n",
    "plt.title(\"Gaussian Mixture Model Clustering\")\n",
    "plt.xlabel(\"Principal Component 1\")\n",
    "plt.ylabel(\"Principal Component 2\")\n",
    "\n",
    "plt.subplot(133)\n",
    "plt.scatter(X_reduced[:, 0], X_reduced[:, 1], c=hierarchical_labels, cmap='viridis')\n",
    "plt.title(\"Hierarchical Clustering\")\n",
    "plt.xlabel(\"Principal Component 1\")\n",
    "plt.ylabel(\"Principal Component 2\")\n",
    "\n",
    "plt.tight_layout()\n",
    "plt.show()"
   ]
  },
  {
   "cell_type": "markdown",
   "metadata": {
    "id": "eJz_BNCCM76u"
   },
   "source": [
    "**Notes and Observations from Part 2**\n",
    "\n",
    "1. Hence, the use of k-means in which the number of clusters are chosen manually yields a range of silhoette scores in which the general trend is that the higher the number of clusters, the higher is the silhouette score. However, it must also be noted that the more the number of clusters, the separability of the data points within the clusters reduces, and the clusters start to overlap with each other.\n",
    "\n",
    "2. Hence, the use of the elbow method is crucial as it shows that the optimal number of clusters for this dataset is 4. Although the silhouette score does not improve much, and stays around 0.36 for noiseless data and 0.32 for noisy data, the separability of the points within the clusters is found to be the best here.\n",
    "\n",
    "3. Also, the use of clustering methods such as Gaussian Mixture and Hierarchical Clustering along with K-Means shows that the results are comparable in terms of silhouette score.\n",
    "\n"
   ]
  },
  {
   "cell_type": "markdown",
   "metadata": {
    "id": "UfJk8u_xuzOp"
   },
   "source": [
    "**Part 3**"
   ]
  },
  {
   "cell_type": "markdown",
   "metadata": {
    "id": "KqnqttS5u0u7"
   },
   "source": [
    "Without Noise"
   ]
  },
  {
   "cell_type": "code",
   "execution_count": null,
   "metadata": {
    "id": "Xc0HAJjfvv6R"
   },
   "outputs": [],
   "source": [
    "# Flatten the image data to make it two-dimensional\n",
    "num_samples, height, width, num_channels = smiley_X.shape\n",
    "X_flattened = smiley_X.reshape(num_samples, height * width * num_channels)\n",
    "\n",
    "# Convert to pandas DataFrame for easier manipulation\n",
    "df = pd.DataFrame(X_flattened)\n",
    "\n",
    "# Separate features (X) and labels (y)\n",
    "X = df\n",
    "y = smiley_Y\n",
    "\n",
    "# Split the dataset into training and test sets (80% training, 20% test)\n",
    "X_train, X_test, y_train, y_test = train_test_split(X, y, test_size=0.2, random_state=42)"
   ]
  },
  {
   "cell_type": "code",
   "execution_count": null,
   "metadata": {
    "colab": {
     "base_uri": "https://localhost:8080/",
     "height": 790
    },
    "id": "vhROxQwDvwnh",
    "outputId": "156c9f63-99d7-4a49-f87d-e1b3f4b1417e"
   },
   "outputs": [],
   "source": [
    "# Train Decision Tree (J48) on the training set\n",
    "decision_tree = DecisionTreeClassifier(criterion='entropy', random_state=42)\n",
    "decision_tree.fit(X_train, y_train)\n",
    "\n",
    "# Predict on the training set\n",
    "y_train_pred = decision_tree.predict(X_train)\n",
    "\n",
    "# Calculate accuracy on the training set\n",
    "accuracy_train = accuracy_score(y_train, y_train_pred)\n",
    "\n",
    "# Display the accuracy on the training set\n",
    "print(\"Accuracy on Training Set:\", accuracy_train)\n",
    "\n",
    "# Calculate classification report on the training set\n",
    "classification_rep_train = classification_report(y_train, y_train_pred)\n",
    "\n",
    "# Display the classification report on the training set\n",
    "print(\"Classification Report:\\n\", classification_rep_train)\n",
    "\n",
    "# Confusion Matrix Heatmap for Training Set\n",
    "conf_matrix_train = confusion_matrix(y_train, y_train_pred)\n",
    "plt.figure(figsize=(8, 6))\n",
    "sns.heatmap(conf_matrix_train, annot=True, cmap='Blues', fmt='g', annot_kws={\"size\": 12})\n",
    "print(\"Confusion Matrix:\")\n",
    "plt.xlabel('Predicted Labels')\n",
    "plt.ylabel('True Labels')\n",
    "plt.title('Confusion Matrix - Training Set')\n",
    "plt.show()"
   ]
  },
  {
   "cell_type": "code",
   "execution_count": null,
   "metadata": {
    "colab": {
     "base_uri": "https://localhost:8080/"
    },
    "id": "dS-Upcy5v3Sd",
    "outputId": "dbdfd7ba-7ba7-4802-88c0-7bbae471b76a"
   },
   "outputs": [],
   "source": [
    "# Perform 10-fold cross-validation on the training set\n",
    "cv_scores = cross_val_score(decision_tree, X_train, y_train, cv=10)\n",
    "\n",
    "# Calculate the mean and standard deviation of cross-validation scores\n",
    "cv_mean_accuracy = cv_scores.mean()\n",
    "cv_std_accuracy = cv_scores.std()\n",
    "\n",
    "# Display the cross-validation results\n",
    "print(\"Cross-Validation Accuracy (Mean):\", cv_mean_accuracy)\n",
    "print(\"Cross-Validation Accuracy (Standard Deviation):\", cv_std_accuracy)"
   ]
  },
  {
   "cell_type": "code",
   "execution_count": null,
   "metadata": {
    "colab": {
     "base_uri": "https://localhost:8080/",
     "height": 790
    },
    "id": "M8DN3ejjv6xo",
    "outputId": "9235ffbb-07a8-4de1-916c-2dda5c3e350b"
   },
   "outputs": [],
   "source": [
    "# Build the Decision Tree classifier using the training data\n",
    "decision_tree_test = DecisionTreeClassifier(criterion='entropy', random_state=42)\n",
    "decision_tree_test.fit(X_train, y_train)\n",
    "\n",
    "# Predict on the test set\n",
    "y_test_pred = decision_tree_test.predict(X_test)\n",
    "\n",
    "# Calculate accuracy on the test set\n",
    "accuracy_test = accuracy_score(y_test, y_test_pred)\n",
    "\n",
    "# Display the accuracy on the test set\n",
    "print(\"Accuracy on Test Set:\", accuracy_test)\n",
    "\n",
    "# Calculate classification report on the training set\n",
    "classification_rep_train = classification_report(y_test, y_test_pred)\n",
    "\n",
    "# Display the classification report on the training set\n",
    "print(\"Classification Report:\\n\", classification_rep_train)\n",
    "\n",
    "# Confusion Matrix Heatmap for Training Set\n",
    "conf_matrix_train = confusion_matrix(y_test, y_test_pred)\n",
    "plt.figure(figsize=(8, 6))\n",
    "sns.heatmap(conf_matrix_train, annot=True, cmap='Blues', fmt='g', annot_kws={\"size\": 12})\n",
    "print(\"Confusion Matrix:\")\n",
    "plt.xlabel('Predicted Labels')\n",
    "plt.ylabel('True Labels')\n",
    "plt.title('Confusion Matrix - Training Set')\n",
    "plt.show()"
   ]
  },
  {
   "cell_type": "code",
   "execution_count": null,
   "metadata": {
    "colab": {
     "base_uri": "https://localhost:8080/",
     "height": 755
    },
    "id": "APIUsXkDwBvt",
    "outputId": "7555a01b-9812-4992-a0b3-bb48fa5e71b5"
   },
   "outputs": [],
   "source": [
    "# Flatten the image data to make it two-dimensional\n",
    "num_samples, height, width, num_channels = smiley_X.shape\n",
    "X_flattened = smiley_X.reshape(num_samples, height * width * num_channels)\n",
    "\n",
    "# Convert to pandas DataFrame for easier manipulation\n",
    "df = pd.DataFrame(X_flattened)\n",
    "\n",
    "# Separate features (X) and labels (y)\n",
    "X = df\n",
    "y = smiley_Y\n",
    "\n",
    "# Split the dataset into training and test sets (80% training, 20% test)\n",
    "X_train, X_test, y_train, y_test = train_test_split(X, y, test_size=0.2, random_state=42)\n",
    "\n",
    "# Initialize lists to store parameter values and corresponding accuracies\n",
    "max_depth_values = [None, 5, 10, 15, 20]\n",
    "min_samples_leaf_values = [1, 5, 10, 15, 20]\n",
    "criterion_values = ['gini', 'entropy']\n",
    "min_impurity_decrease_values = [0.0, 0.01, 0.05, 0.1, 0.2]\n",
    "\n",
    "# Initialize dictionaries to store results\n",
    "parameter_results = {}\n",
    "confusion_matrices = {}\n",
    "\n",
    "# Function to train and evaluate Decision Tree with given parameters\n",
    "def evaluate_decision_tree(parameters):\n",
    "    decision_tree = DecisionTreeClassifier(**parameters)\n",
    "    decision_tree.fit(X_train, y_train)\n",
    "\n",
    "    # Predict on the test set\n",
    "    y_test_pred = decision_tree.predict(X_test)\n",
    "\n",
    "    # Calculate accuracy on the test set\n",
    "    accuracy_test = accuracy_score(y_test, y_test_pred)\n",
    "    confusion_matrix_test = confusion_matrix(y_test, y_test_pred)\n",
    "    return accuracy_test, confusion_matrix_test\n",
    "\n",
    "# Experiment with different parameter settings\n",
    "for max_depth in max_depth_values:\n",
    "    for min_samples_leaf in min_samples_leaf_values:\n",
    "        for criterion in criterion_values:\n",
    "            for min_impurity_decrease in min_impurity_decrease_values:\n",
    "                parameters = {\n",
    "                    'max_depth': max_depth,\n",
    "                    'min_samples_leaf': min_samples_leaf,\n",
    "                    'criterion': criterion,\n",
    "                    'min_impurity_decrease': min_impurity_decrease,\n",
    "                    'random_state': 42\n",
    "                }\n",
    "\n",
    "                accuracy, confusion_matrix_test = evaluate_decision_tree(parameters)\n",
    "                parameter_results[str(parameters)] = accuracy\n",
    "                confusion_matrices[str(parameters)] = confusion_matrix_test\n",
    "\n",
    "# Find the best parameter setting with the highest accuracy\n",
    "best_parameters = max(parameter_results, key=parameter_results.get)\n",
    "best_accuracy = parameter_results[best_parameters]\n",
    "\n",
    "# Display the best parameter setting and its accuracy\n",
    "print(\"Best Parameter Setting:\", best_parameters)\n",
    "print(\"Accuracy with Best Parameters:\", best_accuracy)\n",
    "\n",
    "# Function to print confusion matrix as heatmap\n",
    "def plot_confusion_matrix(conf_matrix):\n",
    "    plt.figure(figsize=(8, 6))\n",
    "    sns.heatmap(conf_matrix, annot=True, cmap='Blues', fmt='g', annot_kws={\"size\": 12})\n",
    "    plt.xlabel('Predicted Labels')\n",
    "    plt.ylabel('True Labels')\n",
    "    plt.title('Confusion Matrix')\n",
    "    plt.show()\n",
    "\n",
    "# Function to print classification report\n",
    "def print_classification_report(classification_report_str):\n",
    "    report_lines = classification_report_str.split('\\n')\n",
    "    print(report_lines[0])\n",
    "    for line in report_lines[2:-3]:\n",
    "        print(line)\n",
    "    print(report_lines[-2])\n",
    "\n",
    "# Print the classification report for the best parameter setting\n",
    "decision_tree_best = DecisionTreeClassifier(**eval(best_parameters))\n",
    "decision_tree_best.fit(X_train, y_train)\n",
    "y_test_pred_best = decision_tree_best.predict(X_test)\n",
    "classification_report_best = classification_report(y_test, y_test_pred_best)\n",
    "print(\"Classification Report for Best Parameter Setting:\")\n",
    "print_classification_report(classification_report_best)\n",
    "\n",
    "# Print the confusion matrix for the best parameter setting as heatmap\n",
    "best_conf_matrix = confusion_matrices[best_parameters]\n",
    "print(\"Confusion Matrix for Best Parameter Setting:\")\n",
    "plot_confusion_matrix(best_conf_matrix)"
   ]
  },
  {
   "cell_type": "markdown",
   "metadata": {
    "id": "_JE6CTvB1XuI"
   },
   "source": [
    "With Noise"
   ]
  },
  {
   "cell_type": "code",
   "execution_count": null,
   "metadata": {
    "id": "wbWn4TAA0Ujq"
   },
   "outputs": [],
   "source": [
    "# Flatten the image data to make it two-dimensional\n",
    "num_samples, height, width, num_channels = smiley_noisy_X.shape\n",
    "X_flattened = smiley_noisy_X.reshape(num_samples, height * width * num_channels)\n",
    "\n",
    "# Convert to pandas DataFrame for easier manipulation\n",
    "df = pd.DataFrame(X_flattened)\n",
    "\n",
    "# Separate features (X) and labels (y)\n",
    "X = df\n",
    "y = smiley_noisy_Y\n",
    "\n",
    "# Split the dataset into training and test sets (80% training, 20% test)\n",
    "X_train, X_test, y_train, y_test = train_test_split(X, y, test_size=0.2, random_state=42)"
   ]
  },
  {
   "cell_type": "code",
   "execution_count": null,
   "metadata": {
    "colab": {
     "base_uri": "https://localhost:8080/",
     "height": 790
    },
    "id": "XR7DJVx01c_k",
    "outputId": "1defa15b-aeff-4c9d-93a3-d3bb48ea15ba"
   },
   "outputs": [],
   "source": [
    "# Train Decision Tree (J48) on the training set\n",
    "decision_tree = DecisionTreeClassifier(criterion='entropy', random_state=42)\n",
    "decision_tree.fit(X_train, y_train)\n",
    "\n",
    "# Predict on the training set\n",
    "y_train_pred = decision_tree.predict(X_train)\n",
    "\n",
    "# Calculate accuracy on the training set\n",
    "accuracy_train = accuracy_score(y_train, y_train_pred)\n",
    "\n",
    "# Display the accuracy on the training set\n",
    "print(\"Accuracy on Training Set:\", accuracy_train)\n",
    "\n",
    "# Calculate classification report on the training set\n",
    "classification_rep_train = classification_report(y_train, y_train_pred)\n",
    "\n",
    "# Display the classification report on the training set\n",
    "print(\"Classification Report:\\n\", classification_rep_train)\n",
    "\n",
    "# Confusion Matrix Heatmap for Training Set\n",
    "conf_matrix_train = confusion_matrix(y_train, y_train_pred)\n",
    "plt.figure(figsize=(8, 6))\n",
    "sns.heatmap(conf_matrix_train, annot=True, cmap='Blues', fmt='g', annot_kws={\"size\": 12})\n",
    "print(\"Confusion Matrix:\")\n",
    "plt.xlabel('Predicted Labels')\n",
    "plt.ylabel('True Labels')\n",
    "plt.title('Confusion Matrix - Training Set')\n",
    "plt.show()"
   ]
  },
  {
   "cell_type": "code",
   "execution_count": null,
   "metadata": {
    "colab": {
     "base_uri": "https://localhost:8080/"
    },
    "id": "aT92D53P1kWT",
    "outputId": "5c4a7f4b-ff1a-4eef-e0d2-7dae453cb2bc"
   },
   "outputs": [],
   "source": [
    "# Perform 10-fold cross-validation on the training set\n",
    "cv_scores = cross_val_score(decision_tree, X_train, y_train, cv=10)\n",
    "\n",
    "# Calculate the mean and standard deviation of cross-validation scores\n",
    "cv_mean_accuracy = cv_scores.mean()\n",
    "cv_std_accuracy = cv_scores.std()\n",
    "\n",
    "# Display the cross-validation results\n",
    "print(\"Cross-Validation Accuracy (Mean):\", cv_mean_accuracy)\n",
    "print(\"Cross-Validation Accuracy (Standard Deviation):\", cv_std_accuracy)"
   ]
  },
  {
   "cell_type": "code",
   "execution_count": null,
   "metadata": {
    "colab": {
     "base_uri": "https://localhost:8080/",
     "height": 790
    },
    "id": "KZYKZDRJ1lJh",
    "outputId": "f2eb2d1b-6c2c-423d-d07d-a0900a8b100a"
   },
   "outputs": [],
   "source": [
    "# Build the Decision Tree classifier using the training data\n",
    "decision_tree_test = DecisionTreeClassifier(criterion='entropy', random_state=42)\n",
    "decision_tree_test.fit(X_train, y_train)\n",
    "\n",
    "# Predict on the test set\n",
    "y_test_pred = decision_tree_test.predict(X_test)\n",
    "\n",
    "# Calculate accuracy on the test set\n",
    "accuracy_test = accuracy_score(y_test, y_test_pred)\n",
    "\n",
    "# Display the accuracy on the test set\n",
    "print(\"Accuracy on Test Set:\", accuracy_test)\n",
    "\n",
    "# Calculate classification report on the training set\n",
    "classification_rep_train = classification_report(y_test, y_test_pred)\n",
    "\n",
    "# Display the classification report on the training set\n",
    "print(\"Classification Report:\\n\", classification_rep_train)\n",
    "\n",
    "# Confusion Matrix Heatmap for Training Set\n",
    "conf_matrix_train = confusion_matrix(y_test, y_test_pred)\n",
    "plt.figure(figsize=(8, 6))\n",
    "sns.heatmap(conf_matrix_train, annot=True, cmap='Blues', fmt='g', annot_kws={\"size\": 12})\n",
    "print(\"Confusion Matrix:\")\n",
    "plt.xlabel('Predicted Labels')\n",
    "plt.ylabel('True Labels')\n",
    "plt.title('Confusion Matrix - Training Set')\n",
    "plt.show()"
   ]
  },
  {
   "cell_type": "code",
   "execution_count": null,
   "metadata": {
    "colab": {
     "base_uri": "https://localhost:8080/",
     "height": 755
    },
    "id": "1k5tQeBX1ni0",
    "outputId": "60e95d91-a4e4-476c-c071-8e089bb006b9"
   },
   "outputs": [],
   "source": [
    "# Flatten the image data to make it two-dimensional\n",
    "num_samples, height, width, num_channels = smiley_noisy_X.shape\n",
    "X_flattened = smiley_noisy_X.reshape(num_samples, height * width * num_channels)\n",
    "\n",
    "# Convert to pandas DataFrame for easier manipulation\n",
    "df = pd.DataFrame(X_flattened)\n",
    "\n",
    "# Separate features (X) and labels (y)\n",
    "X = df\n",
    "y = smiley_noisy_Y\n",
    "\n",
    "# Split the dataset into training and test sets (80% training, 20% test)\n",
    "X_train, X_test, y_train, y_test = train_test_split(X, y, test_size=0.2, random_state=42)\n",
    "\n",
    "# Initialize lists to store parameter values and corresponding accuracies\n",
    "max_depth_values = [None, 5, 10, 15, 20]\n",
    "min_samples_leaf_values = [1, 5, 10, 15, 20]\n",
    "criterion_values = ['gini', 'entropy']\n",
    "min_impurity_decrease_values = [0.0, 0.01, 0.05, 0.1, 0.2]\n",
    "\n",
    "# Initialize dictionaries to store results\n",
    "parameter_results = {}\n",
    "confusion_matrices = {}\n",
    "\n",
    "# Function to train and evaluate Decision Tree with given parameters\n",
    "def evaluate_decision_tree(parameters):\n",
    "    decision_tree = DecisionTreeClassifier(**parameters)\n",
    "    decision_tree.fit(X_train, y_train)\n",
    "\n",
    "    # Predict on the test set\n",
    "    y_test_pred = decision_tree.predict(X_test)\n",
    "\n",
    "    # Calculate accuracy on the test set\n",
    "    accuracy_test = accuracy_score(y_test, y_test_pred)\n",
    "    confusion_matrix_test = confusion_matrix(y_test, y_test_pred)\n",
    "    return accuracy_test, confusion_matrix_test\n",
    "\n",
    "# Experiment with different parameter settings\n",
    "for max_depth in max_depth_values:\n",
    "    for min_samples_leaf in min_samples_leaf_values:\n",
    "        for criterion in criterion_values:\n",
    "            for min_impurity_decrease in min_impurity_decrease_values:\n",
    "                parameters = {\n",
    "                    'max_depth': max_depth,\n",
    "                    'min_samples_leaf': min_samples_leaf,\n",
    "                    'criterion': criterion,\n",
    "                    'min_impurity_decrease': min_impurity_decrease,\n",
    "                    'random_state': 42\n",
    "                }\n",
    "\n",
    "                accuracy, confusion_matrix_test = evaluate_decision_tree(parameters)\n",
    "                parameter_results[str(parameters)] = accuracy\n",
    "                confusion_matrices[str(parameters)] = confusion_matrix_test\n",
    "\n",
    "# Find the best parameter setting with the highest accuracy\n",
    "best_parameters = max(parameter_results, key=parameter_results.get)\n",
    "best_accuracy = parameter_results[best_parameters]\n",
    "\n",
    "# Display the best parameter setting and its accuracy\n",
    "print(\"Best Parameter Setting:\", best_parameters)\n",
    "print(\"Accuracy with Best Parameters:\", best_accuracy)\n",
    "\n",
    "# Function to print confusion matrix as heatmap\n",
    "def plot_confusion_matrix(conf_matrix):\n",
    "    plt.figure(figsize=(8, 6))\n",
    "    sns.heatmap(conf_matrix, annot=True, cmap='Blues', fmt='g', annot_kws={\"size\": 12})\n",
    "    plt.xlabel('Predicted Labels')\n",
    "    plt.ylabel('True Labels')\n",
    "    plt.title('Confusion Matrix')\n",
    "    plt.show()\n",
    "\n",
    "# Function to print classification report\n",
    "def print_classification_report(classification_report_str):\n",
    "    report_lines = classification_report_str.split('\\n')\n",
    "    print(report_lines[0])\n",
    "    for line in report_lines[2:-3]:\n",
    "        print(line)\n",
    "    print(report_lines[-2])\n",
    "\n",
    "# Print the classification report for the best parameter setting\n",
    "decision_tree_best = DecisionTreeClassifier(**eval(best_parameters))\n",
    "decision_tree_best.fit(X_train, y_train)\n",
    "y_test_pred_best = decision_tree_best.predict(X_test)\n",
    "classification_report_best = classification_report(y_test, y_test_pred_best)\n",
    "print(\"Classification Report for Best Parameter Setting:\")\n",
    "print_classification_report(classification_report_best)\n",
    "\n",
    "# Print the confusion matrix for the best parameter setting as heatmap\n",
    "best_conf_matrix = confusion_matrices[best_parameters]\n",
    "print(\"Confusion Matrix for Best Parameter Setting:\")\n",
    "plot_confusion_matrix(best_conf_matrix)"
   ]
  },
  {
   "cell_type": "markdown",
   "metadata": {
    "id": "Iqw1GOBS3EtR"
   },
   "source": [
    "Additional: Without Noise"
   ]
  },
  {
   "cell_type": "code",
   "execution_count": null,
   "metadata": {
    "colab": {
     "base_uri": "https://localhost:8080/"
    },
    "id": "01duQU1H1xw9",
    "outputId": "dbfa3d83-da55-4902-8bef-f59ba1501bd2"
   },
   "outputs": [],
   "source": [
    "# Flatten the image data to make it two-dimensional\n",
    "num_samples, height, width, num_channels = smiley_X.shape\n",
    "X_flattened = smiley_X.reshape(num_samples, height * width * num_channels)\n",
    "\n",
    "# Convert to pandas DataFrame for easier manipulation\n",
    "df = pd.DataFrame(X_flattened)\n",
    "\n",
    "# Separate features (X) and labels (y)\n",
    "X = df\n",
    "y = smiley_Y\n",
    "\n",
    "# Create new training and testing sets with 30% instances moved to the testing set\n",
    "X_train_30, X_test_30, y_train_30, y_test_30 = train_test_split(X_train, y_train, test_size=0.3, random_state=42)\n",
    "\n",
    "# Create new training and testing sets with 60% instances moved to the testing set\n",
    "X_train_60, X_test_60, y_train_60, y_test_60 = train_test_split(X_train, y_train, test_size=0.6, random_state=42)\n",
    "\n",
    "# Initialize Decision Tree classifiers\n",
    "decision_tree_30 = DecisionTreeClassifier(random_state=42)\n",
    "decision_tree_60 = DecisionTreeClassifier(random_state=42)\n",
    "\n",
    "# Train Decision Tree classifiers on the new training sets\n",
    "decision_tree_30.fit(X_train_30, y_train_30)\n",
    "decision_tree_60.fit(X_train_60, y_train_60)\n",
    "\n",
    "# Predict on the training sets\n",
    "y_train_pred_30 = decision_tree_30.predict(X_train_30)\n",
    "y_train_pred_60 = decision_tree_60.predict(X_train_60)\n",
    "\n",
    "# Predict on the testing sets\n",
    "y_test_pred_30 = decision_tree_30.predict(X_test_30)\n",
    "y_test_pred_60 = decision_tree_60.predict(X_test_60)\n",
    "\n",
    "# Calculate accuracies on the training sets\n",
    "accuracy_train_30 = accuracy_score(y_train_30, y_train_pred_30)\n",
    "accuracy_train_60 = accuracy_score(y_train_60, y_train_pred_60)\n",
    "\n",
    "# Calculate accuracies on the testing sets\n",
    "accuracy_test_30 = accuracy_score(y_test_30, y_test_pred_30)\n",
    "accuracy_test_60 = accuracy_score(y_test_60, y_test_pred_60)\n",
    "\n",
    "# Display the accuracies\n",
    "print(\"Accuracy on 30% Training Set:\", accuracy_train_30)\n",
    "print(\"Accuracy on 30% Testing Set:\", accuracy_test_30)\n",
    "print(\"Accuracy on 60% Training Set:\", accuracy_train_60)\n",
    "print(\"Accuracy on 60% Testing Set:\", accuracy_test_60)"
   ]
  },
  {
   "cell_type": "code",
   "execution_count": null,
   "metadata": {
    "colab": {
     "base_uri": "https://localhost:8080/",
     "height": 1000
    },
    "id": "0VhAbvHx3HBM",
    "outputId": "98ba0c99-48b7-4603-ed95-ebe07f8989dd"
   },
   "outputs": [],
   "source": [
    "# Flatten the image data to make it two-dimensional\n",
    "num_samples, height, width, num_channels = smiley_X.shape\n",
    "X_flattened = smiley_X.reshape(num_samples, height * width * num_channels)\n",
    "\n",
    "# Convert to pandas DataFrame for easier manipulation\n",
    "df = pd.DataFrame(X_flattened)\n",
    "\n",
    "# Separate features (X) and labels (y)\n",
    "X = df\n",
    "y = smiley_Y\n",
    "\n",
    "# Split the dataset into training and test sets (80% training, 20% test)\n",
    "X_train, X_test, y_train, y_test = train_test_split(X, y, test_size=0.2, random_state=42)\n",
    "\n",
    "# Initialize Random Forest classifier\n",
    "random_forest = RandomForestClassifier(random_state=42)\n",
    "\n",
    "# Train Random Forest on the original training set\n",
    "random_forest.fit(X_train, y_train)\n",
    "\n",
    "# Predict on the training and test sets\n",
    "y_train_pred_rf = random_forest.predict(X_train)\n",
    "y_test_pred_rf = random_forest.predict(X_test)\n",
    "\n",
    "# Calculate accuracies on the training and test sets\n",
    "accuracy_train_rf = accuracy_score(y_train, y_train_pred_rf)\n",
    "accuracy_test_rf = accuracy_score(y_test, y_test_pred_rf)\n",
    "\n",
    "# Display the accuracies for Random Forest\n",
    "print(\"Random Forest - Accuracy on Training Set:\", accuracy_train_rf)\n",
    "\n",
    "# Print confusion matrix for training set as heatmap\n",
    "conf_matrix_train_rf = confusion_matrix(y_train, y_train_pred_rf)\n",
    "plt.figure(figsize=(8, 6))\n",
    "sns.heatmap(conf_matrix_train_rf, annot=True, cmap='Blues', fmt='g', annot_kws={\"size\": 12})\n",
    "plt.xlabel('Predicted Labels')\n",
    "plt.ylabel('True Labels')\n",
    "plt.title('Random Forest - Confusion Matrix (Training Set)')\n",
    "plt.show()\n",
    "\n",
    "# Print classification report for training set\n",
    "classification_report_train_rf = classification_report(y_train, y_train_pred_rf)\n",
    "print(\"Random Forest - Classification Report (Training Set):\")\n",
    "print(classification_report_train_rf)\n",
    "\n",
    "print(\"Random Forest - Accuracy on Testing Set:\", accuracy_test_rf)\n",
    "\n",
    "# Print confusion matrix for test set as heatmap\n",
    "conf_matrix_test_rf = confusion_matrix(y_test, y_test_pred_rf)\n",
    "plt.figure(figsize=(8, 6))\n",
    "sns.heatmap(conf_matrix_test_rf, annot=True, cmap='Blues', fmt='g', annot_kws={\"size\": 12})\n",
    "plt.xlabel('Predicted Labels')\n",
    "plt.ylabel('True Labels')\n",
    "plt.title('Random Forest - Confusion Matrix (Test Set)')\n",
    "plt.show()\n",
    "\n",
    "# Print classification report for test set\n",
    "classification_report_test_rf = classification_report(y_test, y_test_pred_rf)\n",
    "print(\"Random Forest - Classification Report (Test Set):\")\n",
    "print(classification_report_test_rf)"
   ]
  },
  {
   "cell_type": "markdown",
   "metadata": {
    "id": "GgytyJQRBaV2"
   },
   "source": [
    "Additional: With Noise"
   ]
  },
  {
   "cell_type": "code",
   "execution_count": null,
   "metadata": {
    "colab": {
     "base_uri": "https://localhost:8080/"
    },
    "id": "fER6hLLoBJR5",
    "outputId": "0d8ef19b-e437-44d6-c612-0ebf0cd99675"
   },
   "outputs": [],
   "source": [
    "# Flatten the image data to make it two-dimensional\n",
    "num_samples, height, width, num_channels = smiley_noisy_X.shape\n",
    "X_flattened = smiley_noisy_X.reshape(num_samples, height * width * num_channels)\n",
    "\n",
    "# Convert to pandas DataFrame for easier manipulation\n",
    "df = pd.DataFrame(X_flattened)\n",
    "\n",
    "# Separate features (X) and labels (y)\n",
    "X = df\n",
    "y = smiley_noisy_Y\n",
    "\n",
    "# Create new training and testing sets with 30% instances moved to the testing set\n",
    "X_train_30, X_test_30, y_train_30, y_test_30 = train_test_split(X_train, y_train, test_size=0.3, random_state=42)\n",
    "\n",
    "# Create new training and testing sets with 60% instances moved to the testing set\n",
    "X_train_60, X_test_60, y_train_60, y_test_60 = train_test_split(X_train, y_train, test_size=0.6, random_state=42)\n",
    "\n",
    "# Initialize Decision Tree classifiers\n",
    "decision_tree_30 = DecisionTreeClassifier(random_state=42)\n",
    "decision_tree_60 = DecisionTreeClassifier(random_state=42)\n",
    "\n",
    "# Train Decision Tree classifiers on the new training sets\n",
    "decision_tree_30.fit(X_train_30, y_train_30)\n",
    "decision_tree_60.fit(X_train_60, y_train_60)\n",
    "\n",
    "# Predict on the training sets\n",
    "y_train_pred_30 = decision_tree_30.predict(X_train_30)\n",
    "y_train_pred_60 = decision_tree_60.predict(X_train_60)\n",
    "\n",
    "# Predict on the testing sets\n",
    "y_test_pred_30 = decision_tree_30.predict(X_test_30)\n",
    "y_test_pred_60 = decision_tree_60.predict(X_test_60)\n",
    "\n",
    "# Calculate accuracies on the training sets\n",
    "accuracy_train_30 = accuracy_score(y_train_30, y_train_pred_30)\n",
    "accuracy_train_60 = accuracy_score(y_train_60, y_train_pred_60)\n",
    "\n",
    "# Calculate accuracies on the testing sets\n",
    "accuracy_test_30 = accuracy_score(y_test_30, y_test_pred_30)\n",
    "accuracy_test_60 = accuracy_score(y_test_60, y_test_pred_60)\n",
    "\n",
    "# Display the accuracies\n",
    "print(\"Accuracy on 30% Training Set:\", accuracy_train_30)\n",
    "print(\"Accuracy on 30% Testing Set:\", accuracy_test_30)\n",
    "print(\"Accuracy on 60% Training Set:\", accuracy_train_60)\n",
    "print(\"Accuracy on 60% Testing Set:\", accuracy_test_60)"
   ]
  },
  {
   "cell_type": "code",
   "execution_count": null,
   "metadata": {
    "colab": {
     "base_uri": "https://localhost:8080/",
     "height": 1000
    },
    "id": "6rw4VxGxBkTq",
    "outputId": "e334c103-51f5-424c-a908-30c82313140e"
   },
   "outputs": [],
   "source": [
    "# Flatten the image data to make it two-dimensional\n",
    "num_samples, height, width, num_channels = smiley_noisy_X.shape\n",
    "X_flattened = smiley_noisy_X.reshape(num_samples, height * width * num_channels)\n",
    "\n",
    "# Convert to pandas DataFrame for easier manipulation\n",
    "df = pd.DataFrame(X_flattened)\n",
    "\n",
    "# Separate features (X) and labels (y)\n",
    "X = df\n",
    "y = smiley_noisy_Y\n",
    "\n",
    "# Split the dataset into training and test sets (80% training, 20% test)\n",
    "X_train, X_test, y_train, y_test = train_test_split(X, y, test_size=0.2, random_state=42)\n",
    "\n",
    "# Initialize Random Forest classifier\n",
    "random_forest = RandomForestClassifier(random_state=42)\n",
    "\n",
    "# Train Random Forest on the original training set\n",
    "random_forest.fit(X_train, y_train)\n",
    "\n",
    "# Predict on the training and test sets\n",
    "y_train_pred_rf = random_forest.predict(X_train)\n",
    "y_test_pred_rf = random_forest.predict(X_test)\n",
    "\n",
    "# Calculate accuracies on the training and test sets\n",
    "accuracy_train_rf = accuracy_score(y_train, y_train_pred_rf)\n",
    "accuracy_test_rf = accuracy_score(y_test, y_test_pred_rf)\n",
    "\n",
    "# Display the accuracies for Random Forest\n",
    "print(\"Random Forest - Accuracy on Training Set:\", accuracy_train_rf)\n",
    "\n",
    "# Print confusion matrix for training set as heatmap\n",
    "conf_matrix_train_rf = confusion_matrix(y_train, y_train_pred_rf)\n",
    "plt.figure(figsize=(8, 6))\n",
    "sns.heatmap(conf_matrix_train_rf, annot=True, cmap='Blues', fmt='g', annot_kws={\"size\": 12})\n",
    "plt.xlabel('Predicted Labels')\n",
    "plt.ylabel('True Labels')\n",
    "plt.title('Random Forest - Confusion Matrix (Training Set)')\n",
    "plt.show()\n",
    "\n",
    "# Print classification report for training set\n",
    "classification_report_train_rf = classification_report(y_train, y_train_pred_rf)\n",
    "print(\"Random Forest - Classification Report (Training Set):\")\n",
    "print(classification_report_train_rf)\n",
    "\n",
    "print(\"Random Forest - Accuracy on Testing Set:\", accuracy_test_rf)\n",
    "\n",
    "# Print confusion matrix for test set as heatmap\n",
    "conf_matrix_test_rf = confusion_matrix(y_test, y_test_pred_rf)\n",
    "plt.figure(figsize=(8, 6))\n",
    "sns.heatmap(conf_matrix_test_rf, annot=True, cmap='Blues', fmt='g', annot_kws={\"size\": 12})\n",
    "plt.xlabel('Predicted Labels')\n",
    "plt.ylabel('True Labels')\n",
    "plt.title('Random Forest - Confusion Matrix (Test Set)')\n",
    "plt.show()\n",
    "\n",
    "# Print classification report for test set\n",
    "classification_report_test_rf = classification_report(y_test, y_test_pred_rf)\n",
    "print(\"Random Forest - Classification Report (Test Set):\")\n",
    "print(classification_report_test_rf)"
   ]
  },
  {
   "cell_type": "markdown",
   "metadata": {
    "id": "pbfz_50mPHIr"
   },
   "source": [
    "**Notes and Observations from Part 3**\n",
    "\n",
    "1. The Decision Tree Classifier generalizes well to unknown data because when it is tested with samples from the test dataset, it yields an accuracy of 97.56% for noiseless data. It also shows a high cross validation accuracy of 97.61%, further showing that it adjusts well to unknown data.\n",
    "\n",
    "2. Further, on experimentation with different parameters, the following: {'max_depth': None, 'min_samples_leaf': 1, 'criterion': 'gini', 'min_impurity_decrease': 0.0, 'random_state': 42}\n",
    "was found to be the best set of parameters for the classifier.\n",
    "\n",
    "3. During the experimentation with moving data from the train to test set, overfitting was noticed in the event of noisy data when 60% data was moved from the train set to the test set as the accuracy came out to be 100%. In the other three instances, overfitting was not noticed.\n",
    "\n",
    "4. When the classifier of Random Forests was fitted on the data, 100% accuracy was seen for both noiseless as well as noisy data.  "
   ]
  },
  {
   "cell_type": "markdown",
   "metadata": {
    "id": "MYqYPAIcBuTs"
   },
   "source": [
    "**Part 4**"
   ]
  },
  {
   "cell_type": "markdown",
   "metadata": {
    "id": "gn5M5mOCBwdC"
   },
   "source": [
    "Without Noise"
   ]
  },
  {
   "cell_type": "code",
   "execution_count": null,
   "metadata": {
    "colab": {
     "base_uri": "https://localhost:8080/"
    },
    "id": "63WFv0q_BpHF",
    "outputId": "66991de8-42c2-4058-e334-84d21569ffe9"
   },
   "outputs": [],
   "source": [
    "# Flatten the image data to make it two-dimensional\n",
    "num_samples, height, width, num_channels = smiley_X.shape\n",
    "X_flattened = smiley_X.reshape(num_samples, height * width * num_channels)\n",
    "\n",
    "# Convert to pandas DataFrame for easier manipulation\n",
    "df = pd.DataFrame(X_flattened)\n",
    "\n",
    "# Separate features (X) and labels (y)\n",
    "X = df\n",
    "y = smiley_Y\n",
    "\n",
    "# Split the dataset into training and test sets (80% training, 20% test)\n",
    "X_train, X_test, y_train, y_test = train_test_split(X, y, test_size=0.2, random_state=42)\n",
    "\n",
    "# Initialize Logistic Regression classifier\n",
    "logistic_regression = LogisticRegression(random_state=42)\n",
    "\n",
    "# Train and evaluate Logistic Regression without cross-validation\n",
    "logistic_regression.fit(X_train, y_train)\n",
    "\n",
    "# Predict on the training and test sets\n",
    "y_train_pred_lr = logistic_regression.predict(X_train)\n",
    "y_test_pred_lr = logistic_regression.predict(X_test)\n",
    "\n",
    "# Calculate accuracies without cross-validation\n",
    "accuracy_train_lr = accuracy_score(y_train, y_train_pred_lr)\n",
    "accuracy_test_lr = accuracy_score(y_test, y_test_pred_lr)\n",
    "\n",
    "# Display the accuracies without cross-validation\n",
    "print(\"Logistic Regression - Accuracy on Training Set (without CV):\", accuracy_train_lr)\n",
    "print(\"Logistic Regression - Accuracy on Testing Set (without CV):\", accuracy_test_lr)\n",
    "\n",
    "# Run Logistic Regression with 10-fold cross-validation\n",
    "cv_scores = cross_val_score(logistic_regression, X_train, y_train, cv=10)\n",
    "\n",
    "# Calculate mean and standard deviation of cross-validation accuracies\n",
    "mean_cv_accuracy = cv_scores.mean()\n",
    "std_cv_accuracy = cv_scores.std()\n",
    "\n",
    "# Display the cross-validation accuracies\n",
    "print(\"\\nLogistic Regression - Cross-Validation Accuracies:\")\n",
    "print(cv_scores)\n",
    "print(\"Mean Cross-Validation Accuracy:\", mean_cv_accuracy)\n",
    "print(\"Standard Deviation of Cross-Validation Accuracy:\", std_cv_accuracy)"
   ]
  },
  {
   "cell_type": "code",
   "execution_count": null,
   "metadata": {
    "colab": {
     "base_uri": "https://localhost:8080/"
    },
    "id": "fKtEILOMClJ9",
    "outputId": "04b5ef71-eb0f-43c6-bd89-169e3b374367"
   },
   "outputs": [],
   "source": [
    "# Define the parameter grid for GridSearchCV\n",
    "param_grid_mlp = {\n",
    "    'hidden_layer_sizes': [(50,), (100,), (50, 50), (100, 50)],\n",
    "    'activation': ['relu', 'tanh'],\n",
    "    'learning_rate_init': [0.001, 0.01, 0.1],\n",
    "    'max_iter': [100, 200, 300],\n",
    "    'momentum': [0.9, 0.95, 0.99],\n",
    "    'early_stopping': [True],\n",
    "    'validation_fraction': [0.1, 0.2, 0.3]\n",
    "}\n",
    "\n",
    "# Initialize Multilayer Perceptron classifier\n",
    "mlp = MLPClassifier(random_state=42)\n",
    "\n",
    "# Perform GridSearchCV to find the best combination of hyperparameters\n",
    "grid_search_mlp = GridSearchCV(mlp, param_grid_mlp, cv=5)\n",
    "grid_search_mlp.fit(X_train, y_train)\n",
    "\n",
    "# Get the best hyperparameters and train the model\n",
    "best_params_mlp = grid_search_mlp.best_params_\n",
    "best_mlp = MLPClassifier(**best_params_mlp, random_state=42)\n",
    "best_mlp.fit(X_train, y_train)\n",
    "\n",
    "# Predict on the training and test sets using the best model\n",
    "y_train_pred_mlp = best_mlp.predict(X_train)\n",
    "y_test_pred_mlp = best_mlp.predict(X_test)\n",
    "\n",
    "# Calculate accuracies on the training and test sets for the best model\n",
    "accuracy_train_mlp = accuracy_score(y_train, y_train_pred_mlp)\n",
    "accuracy_test_mlp = accuracy_score(y_test, y_test_pred_mlp)\n",
    "\n",
    "# Display the best hyperparameters and accuracies for the Multilayer Perceptron\n",
    "print(\"\\nBest Hyperparameters for Multilayer Perceptron:\", best_params_mlp)\n",
    "print(\"Multilayer Perceptron (Best) - Accuracy on Training Set:\", accuracy_train_mlp)\n",
    "print(\"Multilayer Perceptron (Best) - Accuracy on Testing Set:\", accuracy_test_mlp)"
   ]
  },
  {
   "cell_type": "markdown",
   "metadata": {
    "id": "yWCrHAZ3D6KI"
   },
   "source": [
    "With Noise"
   ]
  },
  {
   "cell_type": "code",
   "execution_count": null,
   "metadata": {
    "colab": {
     "base_uri": "https://localhost:8080/"
    },
    "id": "ZfT9h1cND75V",
    "outputId": "beb0dc55-5719-4831-e634-fac8b879a8f5"
   },
   "outputs": [],
   "source": [
    "# Flatten the image data to make it two-dimensional\n",
    "num_samples, height, width, num_channels = smiley_noisy_X.shape\n",
    "X_flattened = smiley_noisy_X.reshape(num_samples, height * width * num_channels)\n",
    "\n",
    "# Convert to pandas DataFrame for easier manipulation\n",
    "df = pd.DataFrame(X_flattened)\n",
    "\n",
    "# Separate features (X) and labels (y)\n",
    "X = df\n",
    "y = smiley_noisy_Y\n",
    "\n",
    "# Split the dataset into training and test sets (80% training, 20% test)\n",
    "X_train, X_test, y_train, y_test = train_test_split(X, y, test_size=0.2, random_state=42)\n",
    "\n",
    "# Initialize Logistic Regression classifier\n",
    "logistic_regression = LogisticRegression(random_state=42)\n",
    "\n",
    "# Train and evaluate Logistic Regression without cross-validation\n",
    "logistic_regression.fit(X_train, y_train)\n",
    "\n",
    "# Predict on the training and test sets\n",
    "y_train_pred_lr = logistic_regression.predict(X_train)\n",
    "y_test_pred_lr = logistic_regression.predict(X_test)\n",
    "\n",
    "# Calculate accuracies without cross-validation\n",
    "accuracy_train_lr = accuracy_score(y_train, y_train_pred_lr)\n",
    "accuracy_test_lr = accuracy_score(y_test, y_test_pred_lr)\n",
    "\n",
    "# Display the accuracies without cross-validation\n",
    "print(\"Logistic Regression - Accuracy on Training Set (without CV):\", accuracy_train_lr)\n",
    "print(\"Logistic Regression - Accuracy on Testing Set (without CV):\", accuracy_test_lr)\n",
    "\n",
    "# Run Logistic Regression with 10-fold cross-validation\n",
    "cv_scores = cross_val_score(logistic_regression, X_train, y_train, cv=10)\n",
    "\n",
    "# Calculate mean and standard deviation of cross-validation accuracies\n",
    "mean_cv_accuracy = cv_scores.mean()\n",
    "std_cv_accuracy = cv_scores.std()\n",
    "\n",
    "# Display the cross-validation accuracies\n",
    "print(\"\\nLogistic Regression - Cross-Validation Accuracies:\")\n",
    "print(cv_scores)\n",
    "print(\"Mean Cross-Validation Accuracy:\", mean_cv_accuracy)\n",
    "print(\"Standard Deviation of Cross-Validation Accuracy:\", std_cv_accuracy)"
   ]
  },
  {
   "cell_type": "code",
   "execution_count": null,
   "metadata": {
    "colab": {
     "base_uri": "https://localhost:8080/"
    },
    "id": "aqykFIHjEfzi",
    "outputId": "6313f017-298f-49d1-b4f1-c71c87138662"
   },
   "outputs": [],
   "source": [
    "# Define the parameter grid for GridSearchCV\n",
    "param_grid_mlp = {\n",
    "    'hidden_layer_sizes': [(50,), (100,), (50, 50), (100, 50)],\n",
    "    'activation': ['relu', 'tanh'],\n",
    "    'learning_rate_init': [0.001, 0.01, 0.1],\n",
    "    'max_iter': [100, 200, 300],\n",
    "    'momentum': [0.9, 0.95, 0.99],\n",
    "    'early_stopping': [True],\n",
    "    'validation_fraction': [0.1, 0.2, 0.3]\n",
    "}\n",
    "\n",
    "# Initialize Multilayer Perceptron classifier\n",
    "mlp = MLPClassifier(random_state=42)\n",
    "\n",
    "# Perform GridSearchCV to find the best combination of hyperparameters\n",
    "grid_search_mlp = GridSearchCV(mlp, param_grid_mlp, cv=5)\n",
    "grid_search_mlp.fit(X_train, y_train)\n",
    "\n",
    "# Get the best hyperparameters and train the model\n",
    "best_params_mlp = grid_search_mlp.best_params_\n",
    "best_mlp = MLPClassifier(**best_params_mlp, random_state=42)\n",
    "best_mlp.fit(X_train, y_train)\n",
    "\n",
    "# Predict on the training and test sets using the best model\n",
    "y_train_pred_mlp = best_mlp.predict(X_train)\n",
    "y_test_pred_mlp = best_mlp.predict(X_test)\n",
    "\n",
    "# Calculate accuracies on the training and test sets for the best model\n",
    "accuracy_train_mlp = accuracy_score(y_train, y_train_pred_mlp)\n",
    "accuracy_test_mlp = accuracy_score(y_test, y_test_pred_mlp)\n",
    "\n",
    "# Display the best hyperparameters and accuracies for the Multilayer Perceptron\n",
    "print(\"\\nBest Hyperparameters for Multilayer Perceptron:\", best_params_mlp)\n",
    "print(\"Multilayer Perceptron (Best) - Accuracy on Training Set:\", accuracy_train_mlp)\n",
    "print(\"Multilayer Perceptron (Best) - Accuracy on Testing Set:\", accuracy_test_mlp)"
   ]
  },
  {
   "cell_type": "markdown",
   "metadata": {
    "id": "SQV7p7ieFBnv"
   },
   "source": [
    "Additional: Without Noise"
   ]
  },
  {
   "cell_type": "code",
   "execution_count": null,
   "metadata": {
    "colab": {
     "base_uri": "https://localhost:8080/"
    },
    "id": "oS_kHby1FDQ3",
    "outputId": "0636ec50-53d8-42f3-de97-64af69313e0e"
   },
   "outputs": [],
   "source": [
    "# Convert DataFrames to NumPy arrays\n",
    "X_train, X_test, y_train, y_test = train_test_split(smiley_X, smiley_Y, test_size=0.2, random_state=42)\n",
    "\n",
    "# Reshape the input data for CNN\n",
    "X_train_cnn = X_train.reshape(-1, 9, 9, 1)  # Grayscale images with single-channel\n",
    "X_test_cnn = X_test.reshape(-1, 9, 9, 1)    # Grayscale images with single-channel\n",
    "\n",
    "# Normalize the data\n",
    "X_train_cnn = X_train_cnn / 255.0\n",
    "X_test_cnn = X_test_cnn / 255.0\n",
    "\n",
    "# Initialize the CNN model\n",
    "cnn_model = Sequential()\n",
    "\n",
    "# Add Convolutional layers\n",
    "cnn_model.add(Conv2D(32, (3, 3), activation='relu', input_shape=(9, 9, 1)))\n",
    "cnn_model.add(MaxPooling2D((2, 2)))\n",
    "\n",
    "# Add another Convolutional layer\n",
    "cnn_model.add(Conv2D(64, (3, 3), activation='relu'))\n",
    "\n",
    "# Flatten the output from Convolutional layers\n",
    "cnn_model.add(Flatten())\n",
    "\n",
    "# Add Fully Connected layers\n",
    "cnn_model.add(Dense(128, activation='relu'))\n",
    "cnn_model.add(Dropout(0.5))  # Add dropout to reduce overfitting\n",
    "cnn_model.add(Dense(3, activation='softmax'))  # Output layer with 3 classes (0, 1, 2)\n",
    "\n",
    "# Compile the model\n",
    "cnn_model.compile(optimizer=Adam(), loss='sparse_categorical_crossentropy', metrics=['accuracy'])\n",
    "\n",
    "# Train the CNN model\n",
    "cnn_model.fit(X_train_cnn, y_train, epochs=100, batch_size=32, validation_split=0.1, verbose=1)\n",
    "\n",
    "# Evaluate the CNN model on the test set\n",
    "loss, accuracy_test_cnn = cnn_model.evaluate(X_test_cnn, y_test, verbose=0)\n",
    "\n",
    "# Display the accuracy of the CNN model on the test set\n",
    "print(\"\\nCNN - Accuracy on Testing Set:\", accuracy_test_cnn)"
   ]
  },
  {
   "cell_type": "markdown",
   "metadata": {
    "id": "5IdOUCkmFV4b"
   },
   "source": [
    "Additional: With Noise"
   ]
  },
  {
   "cell_type": "code",
   "execution_count": null,
   "metadata": {
    "colab": {
     "base_uri": "https://localhost:8080/"
    },
    "id": "o4CsM1AdFVj5",
    "outputId": "a1fae3c2-6b33-45cd-b3e2-a89277759667"
   },
   "outputs": [],
   "source": [
    "# Convert DataFrames to NumPy arrays\n",
    "X_train, X_test, y_train, y_test = train_test_split(smiley_noisy_X, smiley_noisy_Y, test_size=0.2, random_state=42)\n",
    "\n",
    "# Reshape the input data for CNN\n",
    "X_train_cnn = X_train.reshape(-1, 9, 9, 1)  # Grayscale images with single-channel\n",
    "X_test_cnn = X_test.reshape(-1, 9, 9, 1)    # Grayscale images with single-channel\n",
    "\n",
    "# Normalize the data\n",
    "X_train_cnn = X_train_cnn / 255.0\n",
    "X_test_cnn = X_test_cnn / 255.0\n",
    "\n",
    "# Initialize the CNN model\n",
    "cnn_model = Sequential()\n",
    "\n",
    "# Add Convolutional layers\n",
    "cnn_model.add(Conv2D(32, (3, 3), activation='relu', input_shape=(9, 9, 1)))\n",
    "cnn_model.add(MaxPooling2D((2, 2)))\n",
    "\n",
    "# Add another Convolutional layer\n",
    "cnn_model.add(Conv2D(64, (3, 3), activation='relu'))\n",
    "\n",
    "# Flatten the output from Convolutional layers\n",
    "cnn_model.add(Flatten())\n",
    "\n",
    "# Add Fully Connected layers\n",
    "cnn_model.add(Dense(128, activation='relu'))\n",
    "cnn_model.add(Dropout(0.5))  # Add dropout to reduce overfitting\n",
    "cnn_model.add(Dense(3, activation='softmax'))  # Output layer with 3 classes (0, 1, 2)\n",
    "\n",
    "# Compile the model\n",
    "cnn_model.compile(optimizer=Adam(), loss='sparse_categorical_crossentropy', metrics=['accuracy'])\n",
    "\n",
    "# Train the CNN model\n",
    "cnn_model.fit(X_train_cnn, y_train, epochs=100, batch_size=32, validation_split=0.1, verbose=1)\n",
    "\n",
    "# Evaluate the CNN model on the test set\n",
    "loss, accuracy_test_cnn = cnn_model.evaluate(X_test_cnn, y_test, verbose=0)\n",
    "\n",
    "# Display the accuracy of the CNN model on the test set\n",
    "print(\"\\nCNN - Accuracy on Testing Set:\", accuracy_test_cnn)"
   ]
  },
  {
   "cell_type": "markdown",
   "metadata": {
    "id": "ks6T6IlmRw2s"
   },
   "source": [
    "**Notes and Observations from Part 4**\n",
    "\n",
    "1. The linear classifier of Logistic Regression generalizes well to new data as the test accuracies are high coupled with high cross validation accuracies in cases of both noiseless and noisy data.\n",
    "\n",
    "2. The data also seems linearly separable due to good performances of the Logistic Regression classifier on both train and test sets.\n",
    "\n",
    "3. On experimenting with different setups of MLP, the following: {'max_depth': None, 'min_samples_leaf': 1, 'criterion': 'gini', 'min_impurity_decrease': 0.0, 'random_state': 42} was found to be the best for noiseless data.\n",
    "\n",
    "4. Further, the following: {'activation': 'relu', 'early_stopping': True, 'hidden_layer_sizes': (50, 50), 'learning_rate_init': 0.01, 'max_iter': 100, 'momentum': 0.9, 'validation_fraction': 0.3} was found to be the best for noisy data.\n",
    "\n",
    "5. The DL models can be said to be generalizing well to new data as the MLP yields 97.56% and 92.68% accuracies on noiseless and noisy data respectively.\n",
    "\n",
    "6. Further, it can be said that activation functions, especially ReLU, are effective in improving the performance of DL models.\n",
    "\n",
    "7. The performance of CNNs comes out to be better than Gaussian NB, but worse than Decision Tree, Random Forests, Logistic Regression, and MLP. However, it is possible that increasing the number of epochs would improve the performance."
   ]
  }
 ],
 "metadata": {
  "accelerator": "GPU",
  "colab": {
   "gpuType": "T4",
   "provenance": []
  },
  "kernelspec": {
   "display_name": "Python 3 (ipykernel)",
   "language": "python",
   "name": "python3"
  },
  "language_info": {
   "codemirror_mode": {
    "name": "ipython",
    "version": 3
   },
   "file_extension": ".py",
   "mimetype": "text/x-python",
   "name": "python",
   "nbconvert_exporter": "python",
   "pygments_lexer": "ipython3",
   "version": "3.11.4"
  }
 },
 "nbformat": 4,
 "nbformat_minor": 1
}
